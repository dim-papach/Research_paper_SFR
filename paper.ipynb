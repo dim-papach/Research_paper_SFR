{
  "cells": [
    {
      "cell_type": "raw",
      "metadata": {},
      "source": [
        "---\n",
        "editor_options: \n",
        "  markdown: \n",
        "    wrap: 72\n",
        "---"
      ],
      "id": "b4afaca1"
    },
    {
      "cell_type": "code",
      "metadata": {},
      "source": [
        "import numpy as np\n",
        "import numpy.ma as ma\n",
        "import pandas as pd\n",
        "from astropy.io import ascii\n",
        "from astropy.table import Table, QTable, join, hstack, vstack, unique, Column, MaskedColumn, setdiff\n",
        "from astropy.utils.masked import Masked\n",
        "from astropy.coordinates import SkyCoord, Galactic, Angle\n",
        "from astropy.time import Time\n",
        "import astropy.units as u\n",
        "from astropy.utils.diff import report_diff_values\n",
        "from astropy.visualization import quantity_support, hist\n",
        "quantity_support()\n",
        "import glob as glob\n",
        "import sys\n",
        "import matplotlib.pyplot as plt\n",
        "from plotnine import (\n",
        "    ggplot,qplot, ggsave, aes,\n",
        "    after_stat,\n",
        "    stage,\n",
        "    geom_point, geom_smooth, geom_qq, geom_bar, geom_text, geom_label,\n",
        "    position_dodge2,\n",
        "    facet_wrap,\n",
        "    labs,\n",
        "    scale_x_continuous, scale_x_log10, scale_y_log10,\n",
        "    xlim, ylim,\n",
        "    stat_qq\n",
        ")\n",
        "from scipy import optimize, stats\n",
        "from sympy import symbols, exp, log, lambdify\n",
        "import seaborn as sns\n",
        "from custom_table import CustomQTable"
      ],
      "id": "6ddc391f",
      "execution_count": null,
      "outputs": []
    },
    {
      "cell_type": "code",
      "metadata": {},
      "source": [
        "dt = QTable.read(\"./tables/final_table.ecsv\")"
      ],
      "id": "31340171",
      "execution_count": null,
      "outputs": []
    },
    {
      "cell_type": "markdown",
      "metadata": {},
      "source": [
        "set ggplot theme for matplotlib, seaborn\n"
      ],
      "id": "c39dc043"
    },
    {
      "cell_type": "code",
      "metadata": {},
      "source": [
        "sns.set_theme(style=\"darkgrid\")\n",
        "\n",
        "sns.set_palette(\"viridis\")"
      ],
      "id": "ac12afbd",
      "execution_count": null,
      "outputs": []
    },
    {
      "cell_type": "markdown",
      "metadata": {},
      "source": [
        "::: abstract\n",
        "The paper investigates the properties of galaxies in the Local\n",
        "Cosmological Volume (LCV), using the Catalogue of Neighboring\n",
        "[Galaxies\\@karachentsevUPDATEDNEARBYGALAXY2013](mailto:Galaxies@karachentsevUPDATEDNEARBYGALAXY2013){.email}\n",
        "and its updated version from the \"Catalog & Atlas of the LV galaxies\"\n",
        "[database\\@CatalogLVGalaxies](mailto:database@CatalogLVGalaxies){.email}.\n",
        "The properties studied include the galaxy types, their various masses,\n",
        "the star formation rates (SFRs) and the star formation timescale $\\tau$,\n",
        "gas depletion timescale $\\tau_g$ and the star formation time $t_{sf}$.\n",
        "The paper aims to understand the distribution and correlation of these\n",
        "properties in the sample of galaxies in the LCV, and how they relate to\n",
        "current astrophysical theories.\n",
        ":::\n",
        "\n",
        "# The Galaxies in the Local Cosmological Volume (LCV)\n",
        "\n",
        "The Catalogue of Neigbouring Galaxies (Karachentsev, Igor D. and Makarov\n",
        "et al.\n",
        "[2013\\@karachentsevUPDATEDNEARBYGALAXY2013](mailto:2013@karachentsevUPDATEDNEARBYGALAXY2013){.email})\n",
        "and its updated version from the \"Catalog & Atlas of the LV galaxies\"\n",
        "[databas\\@CatalogLVGalaxies](mailto:databas@CatalogLVGalaxies){.email}\n",
        "are used to extract the K-band luminosities, the types of the galaxies,\n",
        "the mass within the Holmberg radius (M26), the Hydrogen masses of the\n",
        "galaxies ($M_{HI}$) and the SFRs based on integrated H and\n",
        "far-ultraviolet (FUV) measurments for galaxies within a distance of\n",
        "$\\approx 11$ Mpc.\n",
        "\n",
        "## How are the galaxies chosen\n",
        "\n",
        "According to @kraan-kortewegCatalogueGalaxiesIo1979 the Local\n",
        "Cosmological Volume is defined as the galaxies inside the radius of 10\n",
        "Mpc and having radial velocities with respect to centroid of the Local\n",
        "Group $V_{lg} \\le 500 \\, km \\cdot s^{-1}$. However, this assumed a\n",
        "Hubble constant of $H_0 = 50\\, km \\cdot s^{-1}$.\n",
        "\n",
        "1.  **Initial Selection Criteria**: Galaxies within a 10 Mpc radius were\n",
        "    initially selected based on a radial velocity limit (VLG) of 500\n",
        "    km/s, considering a Hubble parameter (H0) of 50 km/s/Mpc.\n",
        "\n",
        "2.  **Updated Criteria**: To accommodate the revised H0 value of 73\n",
        "    km/s/Mpc, the VLG limit needs to be raised to 730 km/s.\n",
        "\n",
        "3.  **Local Velocity Field**: The presence of the Virgo cluster and the\n",
        "    Local Void introduces additional velocity components, complicating\n",
        "    distance estimation based solely on radial velocities.\n",
        "\n",
        "4.  **Peculiar Motions**: Collective motions within large-scale\n",
        "    structures can introduce peculiar velocities, complicating distance\n",
        "    estimation.\n",
        "\n",
        "5.  **Distance Measurement Methods**: Direct distance measurements using\n",
        "    methods like the tip of the red giant branch (TRGB) provide accurate\n",
        "    distances but are resource-intensive, requiring extensive\n",
        "    observation time with instruments like the Hubble Space Telescope\n",
        "    (HST).\n",
        "\n",
        "6.  **Inclusion Criteria**: Galaxies are included based on either radial\n",
        "    velocities or distance estimates, considering the limitations and\n",
        "    uncertainties in both methods.\n",
        "\n",
        "7.  **Extension to 11 Mpc**: Galaxies with distance estimates beyond 10\n",
        "    Mpc may still be included due to uncertainties in distance\n",
        "    measurements and the potential influence of coherent motions and\n",
        "    large-scale structures.\n",
        "\n",
        "8.  **Sample Composition**: The LV sample comprises\n",
        "    src~python~$$:results value org$${len(dt)}\n",
        "    {{{results(`1448`{.org})}}} galaxies, with considerations for\n",
        "    galaxies near the boundaries of the selection criteria and the\n",
        "    potential influence of measurement errors.\n"
      ],
      "id": "8ab8e73e"
    },
    {
      "cell_type": "code",
      "metadata": {
        "md-indent": "    "
      },
      "source": [
        "hubble = (ggplot(dt.to_pandas())\n",
        "          + aes( x = \"Dis\", y =  \"VLG\")\n",
        "          + labs( x = f\"Distance [{dt['Dis'].unit}]\" , y = \"Radial velocities $V_{LG} $\"+f\"[{dt['VLG'].unit:latex}]\" )\n",
        "          + xlim(0,11) + ylim(0,1200)\n",
        "          + geom_smooth(color = \"red\")\n",
        "          + geom_point()\n",
        "          )\n",
        "fname = \"figure/hubble.png\"\n",
        "hubble.save(fname)\n",
        "plt.show()\n",
        "plt.close()"
      ],
      "id": "6b8dace4",
      "execution_count": null,
      "outputs": []
    },
    {
      "cell_type": "markdown",
      "metadata": {},
      "source": [
        "# Mapping the galaxies\n",
        "\n",
        "Because matplotlib needs the coordinates in radians and between $-\\pi$\n",
        "and $\\pi$ and, not 0 and $2\\pi$, we have to convert coordinates.\n"
      ],
      "id": "0025d3af"
    },
    {
      "cell_type": "code",
      "metadata": {},
      "source": [
        "filename = \"figure/mapping\"\n",
        "\n",
        "# Assuming dt is your data table containing coordinates, mass, and distance\n",
        "c = dt[\"Coordinates\"]\n",
        "mass = dt[\"M26\"].data  # Assuming mass is provided in some unit\n",
        "distance = dt[\"Dis\"].data  # Assuming distance is provided in some unit\n",
        "\n",
        "# Extract Galactic Coordinates\n",
        "galactic_coords = c.galactic\n",
        "\n",
        "# Extract Equatorial Coordinates\n",
        "equatorial_coords = c.transform_to('icrs')\n",
        "\n",
        "# Define the size and color based on mass and distance\n",
        "marker_size = np.sqrt(mass) * 0.0002  # Adjust scaling factor as needed\n",
        "marker_color = distance   # Use distance directly for marker color\n",
        "\n",
        "# Plot Galactic Coordinates\n",
        "plt.figure(figsize=(8, 8))\n",
        "plt.subplot(211, projection=\"aitoff\")\n",
        "plt.grid(True)\n",
        "plt.scatter(galactic_coords.l.wrap_at(180 * u.deg).radian, galactic_coords.b.radian, s=marker_size, c=marker_color, cmap='viridis')\n",
        "plt.colorbar(label='Distance [{}]'.format(dt['Dis'].unit))  # Add colorbar for distance\n",
        "plt.title(\"Galactic Coordinates\")\n",
        "\n",
        "# Plot Equatorial Coordinates\n",
        "plt.subplot(212, projection=\"mollweide\")\n",
        "plt.grid(True)\n",
        "plt.scatter(equatorial_coords.ra.wrap_at(180 * u.deg).radian, equatorial_coords.dec.radian, s=marker_size, c=marker_color, cmap='viridis')\n",
        "plt.colorbar(label='Distance [{}]'.format(dt['Dis'].unit))  # Add colorbar for distance\n",
        "plt.title(\"Equatorial Coordinates\")\n",
        "\n",
        "\n",
        "plt.suptitle(\"Galaxies of the LCV with Mass and Distance Representation\")\n",
        "\n",
        "plt.tight_layout()  # Adjust spacing between subplots\n",
        "plt.savefig(filename)\n",
        "plt.close()\n",
        "\n",
        "filename+\".png\""
      ],
      "id": "06e3762f",
      "execution_count": null,
      "outputs": []
    },
    {
      "cell_type": "markdown",
      "metadata": {},
      "source": [
        "## Types of galaxies\n",
        "\n",
        "Using the dataset of src~python~$$:results value org :exports\n",
        "results$${len(dt)} {{{results(`1448`{.org})}}} galaxies, we can study\n",
        "the morphology of the galaxies in the LCV\n",
        "\n",
        "### Morphology\n"
      ],
      "id": "02c93d98"
    },
    {
      "cell_type": "code",
      "metadata": {},
      "source": [
        "x=\"TType\"\n",
        "file=\"Types\"\n",
        "label=\"Morphology type code\"\n",
        "dttype = pd.DataFrame({\"x\": dt[\"{}\".format(x)]}).dropna()\n",
        "morphology = (\n",
        "    ggplot(dttype, aes(\"factor(x)\"))\n",
        "    + geom_bar(color=\"black\", fill=\"#1f77b4\", show_legend=False)\n",
        "    + geom_text(\n",
        "        aes(label=after_stat(\"count\")),\n",
        "        stat=\"count\",\n",
        "        nudge_y=15,\n",
        "        va=\"bottom\",\n",
        "        size = 9\n",
        "    )\n",
        "    + geom_text(\n",
        "        aes(label=after_stat(\"prop*100\"), group=1),\n",
        "        stat=\"count\",\n",
        "        va=\"bottom\",\n",
        "        format_string=\"({:.1f}%)\",\n",
        "        size = 6\n",
        "    )\n",
        "    + labs(x = \"{}\".format(label))\n",
        ")\n",
        "fname = \"figure/{}.png\".format(file)\n",
        "morphology.save(fname)\n",
        "\n",
        "\"[[./\"+fname+\"]]\""
      ],
      "id": "f11b3679",
      "execution_count": null,
      "outputs": []
    },
    {
      "cell_type": "markdown",
      "metadata": {},
      "source": [
        "1.  Morphology of dwarf galaxies\n",
        "\n",
        "2.  Dwarf galaxy surface brightness morphology\n",
        "\n",
        "# Understanding the Data\n",
        "\n",
        "The catalog consists of 8 tables\n",
        "\n",
        "1.  Catalog of Nearby Galaxies\n",
        "2.  Global Parameters of the Nearby Galaxies\n",
        "3.  List of Apparent Magnitudes\n",
        "4.  List of Heliocentric Velocities\n",
        "5.  List of Inner Kinematics\n",
        "6.  List of Distances\n",
        "7.  List of the nearby galaxies with measured SFR\n",
        "8.  List of Bibliographic References\n",
        "\n",
        "We want several measurments from those lists so we will join them\n",
        "according to the name of the galaxy.\n",
        "\n",
        "This catalog consists of src~python~$$:results value org$${len(dt)+1}\n",
        "{{{results(`1449`{.org})}}} galaxies\n",
        "\n",
        "## Understanding the limit flags\n",
        "\n",
        "Some of those values contain limit flags, which we will mask for our\n",
        "present analysis. However, those values will be shown in the plots, and\n",
        "afterwards will be compared with the theoretical values.\n"
      ],
      "id": "4f7b6848"
    },
    {
      "cell_type": "code",
      "metadata": {},
      "source": [
        "for column in dt.columns:\n",
        "    if column.startswith(\"l_\") or column.startswith(\"f_\"):\n",
        "        if column.startswith(\"l_\"):\n",
        "            corresponding_column_name = column[2:]  # Remove the 'l_' prefix\n",
        "        else:\n",
        "            corresponding_column_name = column[2:]  # Remove the 'f_' prefix\n",
        "\n",
        "        try:\n",
        "            all_masks_in_corresponding = all(mask in dt[corresponding_column_name].mask for mask in dt[column].mask)\n",
        "            if all_masks_in_corresponding:\n",
        "                print(f\"All masks in {column} are also masks in {corresponding_column_name}\")\n",
        "            else:\n",
        "                print(f\"Not all masks in {column} are masks in {corresponding_column_name}\")\n",
        "        except AttributeError:\n",
        "            print(f\"We have no mask for {column}\")"
      ],
      "id": "7de86173",
      "execution_count": null,
      "outputs": []
    },
    {
      "cell_type": "markdown",
      "metadata": {},
      "source": [
        "# Standarized constants\n",
        "\n",
        "We should use some standart consistent values for our analysis.\n",
        "\n",
        "1.  According to @speagleHighlyConsistentFramework2014\n",
        "    [and\\@kroupaConstraintsStarFormation2020](mailto:and@kroupaConstraintsStarFormation2020){.email}\n",
        "    the $t_{sf} = 12\\, Gyr$ represents a strong and consistent\n",
        "    constraint of galaxy evolution, across many studies. While other\n",
        "    researchers adopt a t~sf~= 13.6\n",
        "    [Gyr\\@haslbauerCosmologicalStarFormation2023](mailto:Gyr@haslbauerCosmologicalStarFormation2023){.email},\n",
        "    we use the 12 Gyr assumption following the framework of SP14\n",
        "2.  $\\zeta =$ accommodates mass-loss through stellar evolution.\n",
        "    According to the IGIMF theory the galaxies of the the LCV are\n",
        "    expected to have 1\\< $\\zeta$ \\<1.3, so by adopting $\\zeta =1.3$ we\n",
        "    are working conservatively\n",
        "3.  Main Sequence z = 5\n"
      ],
      "id": "7aafae5f"
    },
    {
      "cell_type": "code",
      "metadata": {},
      "source": [
        "t_sf = 12 * u.Gyr\n",
        "zeta = 1.3\n",
        "z = 5"
      ],
      "id": "1bf72996",
      "execution_count": null,
      "outputs": []
    },
    {
      "cell_type": "markdown",
      "metadata": {},
      "source": [
        "# Calculations for values that we need\n",
        "\n",
        "## Total stellar masses, the total gas mass and total barionic of the galaxies\n",
        "\n",
        "The $MHI$ can be converted to the total mass of the gas of the galaxy\n",
        "using the equation $M_g=1.33\\, MHI$\n",
        "\n",
        "The K-band values are converted to the total Stellar Masses of each\n",
        "galaxy according to the mass-to-light ratio of 0.6\n",
        "($M_\\odot/Lum$)@lelliSPARCMASSMODELS2016\n"
      ],
      "id": "fe594e01"
    },
    {
      "cell_type": "code",
      "metadata": {},
      "source": [
        "dt[\"StellarMass\"] = 0.6 * dt[\"KLum\"]* u.Msun/u.solLum\n",
        "dt[\"StellarMass\"].description = \"K-band luminosity using a mass-to-light ratio of 0.6\"\n",
        "dt[\"StellarMass\"].info()"
      ],
      "id": "e631d027",
      "execution_count": null,
      "outputs": []
    },
    {
      "cell_type": "markdown",
      "metadata": {},
      "source": [
        "The total barionic mass can be calcuated as the sum of the total gas\n",
        "mass of the galaxy with the Stellar mass\n"
      ],
      "id": "45440f37"
    },
    {
      "cell_type": "code",
      "metadata": {},
      "source": [
        "dt[\"BarMass\"] = dt[\"M_g\"] + dt[\"StellarMass\"]\n",
        "\n",
        "dt[\"BarMass\"].info()"
      ],
      "id": "f7234e31",
      "execution_count": null,
      "outputs": []
    },
    {
      "cell_type": "markdown",
      "metadata": {},
      "source": [
        "### Ratio of M~g~ and StellarMass\n"
      ],
      "id": "10accf08"
    },
    {
      "cell_type": "code",
      "metadata": {},
      "source": [
        "dt[\"mass_ratio\"] = dt[\"M_g\"] / dt[\"StellarMass\"]\n",
        "dt[\"mass_ratio\"].info([\"attributes\", \"stats\"])"
      ],
      "id": "27cce98a",
      "execution_count": null,
      "outputs": []
    },
    {
      "cell_type": "markdown",
      "metadata": {},
      "source": [
        "Histogram of dt$$\\\"mass~ratio~\\\"$$\n"
      ],
      "id": "13569cd9"
    },
    {
      "cell_type": "code",
      "metadata": {},
      "source": [
        "#seaborn plot of mass_ratio\n",
        "sns.histplot(dt[\"mass_ratio\"].value)\n",
        "plt.xscale(\"log\")\n",
        "plt.show()"
      ],
      "id": "ecd506e7",
      "execution_count": null,
      "outputs": []
    },
    {
      "cell_type": "markdown",
      "metadata": {},
      "source": [
        "## Color index\n",
        "\n",
        "Here we calculate the color indexes \\<FUV-B\\>\n"
      ],
      "id": "7cf29a99"
    },
    {
      "cell_type": "code",
      "metadata": {},
      "source": [
        "dt[\"color\"] = dt[\"FUVmag\"]-dt[\"Bmag\"]"
      ],
      "id": "e9a7549f",
      "execution_count": null,
      "outputs": []
    },
    {
      "cell_type": "markdown",
      "metadata": {},
      "source": [
        "The lower the value, the bluer the stars, thus the younger the star\n",
        "populations\n"
      ],
      "id": "cec35dfa"
    },
    {
      "cell_type": "code",
      "metadata": {},
      "source": [
        "#hist\n",
        "hist(dt[\"color\"], bins = \"freedman\")\n",
        "plt.xlabel(\"Color index\")\n",
        "plt.ylabel(\"Number of stars\")\n",
        "plt.title(\"Color index <FUV - B> distribution\")\n",
        "#save\n",
        "plt.savefig(\"figure/color_index.png\")\n",
        "plt.close()\n",
        "#print in org\n",
        "\"./figure/color_index.png\""
      ],
      "id": "ee5ffba3",
      "execution_count": null,
      "outputs": []
    },
    {
      "cell_type": "markdown",
      "metadata": {},
      "source": [
        "## Fixing the SFRs\n",
        "\n",
        "### SFR units\n"
      ],
      "id": "123f1c33"
    },
    {
      "cell_type": "code",
      "metadata": {},
      "source": [
        "SFR_unit = u.Msun/u.year"
      ],
      "id": "81b40b78",
      "execution_count": null,
      "outputs": []
    },
    {
      "cell_type": "markdown",
      "metadata": {},
      "source": [
        "### log to linear\n",
        "\n",
        "they are the power in logarithmic scale. SO lets fix them\n"
      ],
      "id": "dba58fc2"
    },
    {
      "cell_type": "code",
      "metadata": {},
      "source": [
        "dt.rename_column(\"SFRFUV\", \"logSFRFUV\")\n",
        "dt[\"SFRFUV\"] = 10**dt[\"logSFRFUV\"].value * SFR_unit\n",
        "dt[\"SFRFUV\"].mask = dt[\"logSFRFUV\"].mask\n",
        "dt[\"SFRFUV\"].description = dt[\"logSFRFUV\"].description\n",
        "\n",
        "dt[\"SFRFUV\"].info()"
      ],
      "id": "a81047c4",
      "execution_count": null,
      "outputs": []
    },
    {
      "cell_type": "code",
      "metadata": {},
      "source": [
        "dt.rename_column(\"SFRHa\", \"logSFRHa\")\n",
        "dt[\"SFRHa\"] = 10**dt[\"logSFRHa\"].value * SFR_unit\n",
        "dt[\"SFRHa\"].mask = dt[\"logSFRHa\"].mask\n",
        "dt[\"SFRHa\"].description = dt[\"logSFRHa\"].description"
      ],
      "id": "6435c102",
      "execution_count": null,
      "outputs": []
    },
    {
      "cell_type": "code",
      "metadata": {},
      "source": [
        "plt.scatter(dt[\"SFRHa\"],dt[\"SFRFUV\"])\n",
        "plt.show()"
      ],
      "id": "5f187dbe",
      "execution_count": null,
      "outputs": []
    },
    {
      "cell_type": "code",
      "metadata": {},
      "source": [
        "dt[[\"SFRFUV\", 'SFRHa']].info(\"stats\")"
      ],
      "id": "89ab379b",
      "execution_count": null,
      "outputs": []
    },
    {
      "cell_type": "markdown",
      "metadata": {},
      "source": [
        "## SFR~0~\n",
        "\n",
        "Now we have to calculate the total SFR from the equation:\n",
        "\n",
        "$$\n",
        "    SFR_o=\\frac{SFR_{FUV}+SFR_{Ha}}{2}\n",
        "$$\n",
        "\n",
        "if we have both the SFR. If we only have one of them then:\n",
        "\n",
        "$$\n",
        "    SFR_{0}=SFR_{i},\\ \\text{if } SFR_{j}=0,\\ i\\neq j,\\ i,j=SFR_{FUV},\\, SFR_{Ha}\n",
        "$$\n",
        "\n",
        "create the average SFR~0~ from SFRHa SFRFUV with np.ma.average\n"
      ],
      "id": "7c1c5b72"
    },
    {
      "cell_type": "code",
      "metadata": {},
      "source": [
        "SFR_0 = np.mean([dt[\"SFRHa\"], dt[\"SFRFUV\"]], axis =0, where = [~dt[\"SFRHa\"].mask, ~dt[\"SFRFUV\"].mask])\n",
        "\n",
        "dt[\"SFR_0\"] = SFR_0 * SFR_unit\n",
        "\n",
        "dt[[\"SFR_0\",\"SFRFUV\", 'SFRHa']].info(\"stats\")"
      ],
      "id": "6f753c33",
      "execution_count": null,
      "outputs": []
    },
    {
      "cell_type": "code",
      "metadata": {},
      "source": [
        "print(dt[\"SFRHa\"].info('stats'))"
      ],
      "id": "6bc8d992",
      "execution_count": null,
      "outputs": []
    },
    {
      "cell_type": "markdown",
      "metadata": {},
      "source": [
        "## Applying the cut SFR~0~ \\>= 1e-3 solMass/yr\n",
        "\n",
        "keep only the SFR~0~ data were \\>1e-3\n"
      ],
      "id": "b39b2461"
    },
    {
      "cell_type": "code",
      "metadata": {},
      "source": [
        "dc = dt.copy()\n",
        "dc = dc[dc[\"SFR_0\"].value >= 1e-3]\n",
        "\n",
        "print(dc[\"SFR_0\"].info())"
      ],
      "id": "8c08595c",
      "execution_count": null,
      "outputs": []
    },
    {
      "cell_type": "code",
      "metadata": {},
      "source": [
        "dc[[\"SFR_0\",\"SFRFUV\", 'SFRHa']].info(\"stats\")"
      ],
      "id": "1543bf01",
      "execution_count": null,
      "outputs": []
    },
    {
      "cell_type": "markdown",
      "metadata": {},
      "source": [
        "Histogram of SFR~0~\n"
      ],
      "id": "91661a12"
    },
    {
      "cell_type": "code",
      "metadata": {},
      "source": [
        "hist(dc[\"SFR_0\"].value, bins = \"scott\")\n",
        "plt.show()"
      ],
      "id": "c280b471",
      "execution_count": null,
      "outputs": []
    },
    {
      "cell_type": "markdown",
      "metadata": {},
      "source": [
        "## Theoretical Average SFR\n",
        "\n",
        "To calculate the average Star Formation Rate $\\overline{SFR}$ we can use\n",
        "the equation\n",
        "\n",
        "$$\n",
        "    \\overline{SFR}=\\frac{\\zeta M_*}{t_{sf}}\n",
        "$$\n",
        "\n",
        "where ζ is the mass-loss through stellar evolution and we assume that\n",
        "$\\zeta\\approx 1.3$ (see explanation in the paper\\`), M\\* is the stellar\n",
        "mass of each galaxy and we assume that is $t_{sf}=12.5\\ Gyr$\n"
      ],
      "id": "809a332a"
    },
    {
      "cell_type": "code",
      "metadata": {},
      "source": [
        "dc[\"av_SFR_theor\"] = 1.3 * dc[\"StellarMass\"] / t_sf.to(u.yr)\n",
        "dc[\"av_SFR_theor\"].info()"
      ],
      "id": "1651cabc",
      "execution_count": null,
      "outputs": []
    },
    {
      "cell_type": "code",
      "metadata": {},
      "source": [
        "plt.scatter(y = dc[\"av_SFR_theor\"],x = dc[\"SFR_0\"], c = dc[\"color\"].value)\n",
        "#colobar\n",
        "plt.colorbar()\n",
        "\n",
        "plt.xscale(\"log\")\n",
        "plt.yscale(\"log\")\n",
        "plt.show()"
      ],
      "id": "c7039a3c",
      "execution_count": null,
      "outputs": []
    },
    {
      "cell_type": "markdown",
      "metadata": {},
      "source": [
        "## Ratio av~SFR~/SFR~0~\n",
        "\n",
        "Now we have to calculate the ratio $\\frac{\\overline{SFR}}{SFR_0}$\n"
      ],
      "id": "6eb29a15"
    },
    {
      "cell_type": "code",
      "metadata": {},
      "source": [
        "dc[\"SFR_ratio\"] = dc[\"av_SFR_theor\"] / dc[\"SFR_0\"]\n",
        "\n",
        "#log10 of ratio\n",
        "dc[\"logSFR_ratio\"] = np.log10(dc[\"SFR_ratio\"])\n",
        "\n",
        "dc[[\"SFR_ratio\", \"logSFR_ratio\"]].info([\"attributes\",\"stats\"])"
      ],
      "id": "e08ea5a7",
      "execution_count": null,
      "outputs": []
    },
    {
      "cell_type": "markdown",
      "metadata": {},
      "source": [
        "log10 of ratio\n"
      ],
      "id": "cba9697a"
    },
    {
      "cell_type": "code",
      "metadata": {},
      "source": [
        "plt.scatter(y = dc[\"SFR_ratio\"],x = dc[\"SFR_0\"], c = dc[\"color\"].value)\n",
        "#colobar\n",
        "plt.colorbar()\n",
        "\n",
        "plt.xscale(\"log\")\n",
        "plt.yscale(\"log\")\n",
        "plt.show()"
      ],
      "id": "b53f4ca7",
      "execution_count": null,
      "outputs": []
    },
    {
      "cell_type": "markdown",
      "metadata": {},
      "source": [
        "Scatter color and ratio\n"
      ],
      "id": "1f69546a"
    },
    {
      "cell_type": "code",
      "metadata": {},
      "source": [
        "plt.scatter(y = dc[\"SFR_ratio\"],x =dc[\"color\"] )\n",
        "#title and labels with units in latex\n",
        "plt.yscale(\"log\")\n",
        "plt.title(\"(ratio) vs color\")\n",
        "plt.ylabel(\"(ratio)\")\n",
        "plt.xlabel(\"color\")\n",
        "#save in dir figure\n",
        "plt.savefig(\"figure/ratio_vs_color.png\")\n",
        "plt.close()\n",
        "#print file\n",
        "print(\"figure/ratio_vs_color.png\")"
      ],
      "id": "a753ec96",
      "execution_count": null,
      "outputs": []
    },
    {
      "cell_type": "markdown",
      "metadata": {},
      "source": [
        "# The Delayed-τ model\n",
        "\n",
        "\"The delayed-τ model describes the SFH of a galaxy assuming that the\n",
        "SFRs typically rise in the early phase of galaxy evolution and gradually\n",
        "decline to the present time (e.g. Reddy et al. 2012; Carnall et al.\n",
        "2019). In fact, Speagle et al. (2014) showed in their figures 9 and 10\n",
        "that the SFH of galaxies following the main sequence of star-forming\n",
        "galaxies can be accurately parametrized by the delayed-τ model of the\n",
        "form\" @haslbauerCosmologicalStarFormation2023\n",
        "\n",
        "\n",
        "```{=latex}\n",
        "\\begin{equation}\n",
        "        \\label{eq:SFR} SFR_{0,del}=\\frac{A_{del}xe^{-x}}{\\tau},\\text{ where } x=\\frac{tsf}{\\tau}\n",
        "\\end{equation}\n",
        "```\n",
        "\n",
        "`\\noindent`{=latex} where\n",
        "\n",
        "is the star formation time-scale, $tsf$ is the real time of star\n",
        "formation in a given galaxy and $Adel$ a normalization constant.\n",
        "\n",
        "The average SFR is\n",
        "\n",
        "\n",
        "```{=latex}\n",
        "\\begin{equation}\n",
        "        \\label{eq:av_SFR-x} \\overline{SFRdel}=\\frac{Adel}{tsf}[1-(1+x)e^{-x}]\n",
        "\\end{equation}\n",
        "```\n",
        "\n",
        "and can also be defined by the present day stellar mass\n",
        "\n",
        "$$\\label{eq:av_SFR M*}\n",
        "        \\overline{SFR}=\\frac{\\zeta M_*}{tsf}$$\n",
        "\n",
        "where accommodates for mass-loss through stella evolution and This is a\n",
        "system of 2 equations and 3 variables\n",
        "\n",
        "## Calculating A~del~\n",
        "\n",
        "### Constant t~sf~\n",
        "\n",
        "The observed ages of galactic discs are $tsf≈ 12$\n",
        "[Gyr\\@knoxSurveyCoolWhite1999a](mailto:Gyr@knoxSurveyCoolWhite1999a){.email},\n",
        "so assuming an approximation of $tsf=12$ Gyr, the $\\overline{SFR_{del}}$\n",
        "can be calcuated, from the equation (`\\ref{eq:av_SFR M*}`{=latex}).\n",
        "\n",
        "After that the equation of ratio\n",
        "\n",
        "$$\\label{eq:ratio}                                        \\frac{\\overline{SFRdel}}{SFR0,del}=\\frac{e^x-x-1}{x^2}$$\n",
        "\n",
        "can be solved numerically for x and using the equations\n",
        "(`\\Ref{eq:SFR}`{=latex}) and (`\\Ref{eq:av_SFR-x}`{=latex}) the $Adel$\n",
        "and of each galaxy are found.\n"
      ],
      "id": "b205cdc2"
    },
    {
      "cell_type": "code",
      "metadata": {},
      "source": [
        "dc[\"SFR_0\", \"SFR_ratio\", \"StellarMass\"].info()"
      ],
      "id": "6b38e2e2",
      "execution_count": null,
      "outputs": []
    },
    {
      "cell_type": "code",
      "metadata": {},
      "source": [
        "ratio_array = np.array(dc[\"SFR_ratio\"])\n",
        "sfr_array = np.array(dc[\"SFR_0\"])\n",
        "mass_array = np.array(dc[\"StellarMass\"])\n",
        "tsf = t_sf/u.yr\n",
        "x2 = np.empty(len(dc))"
      ],
      "id": "291b84a1",
      "execution_count": null,
      "outputs": []
    },
    {
      "cell_type": "markdown",
      "metadata": {},
      "source": [
        "### Newton\n"
      ],
      "id": "516046ef"
    },
    {
      "cell_type": "code",
      "metadata": {},
      "source": [
        "for i in range(len(dc)-1):\n",
        "    ratio = ratio_array[i]\n",
        "    mass = mass_array[i]\n",
        "    sfr = sfr_array[i]\n",
        "    def f(x):\n",
        "        return (-sfr + zeta*mass*x**2/(np.exp(x)-1-x)/tsf )  # only one real root at x = 1\n",
        "\n",
        "    def f_prime(x):\n",
        "        return -zeta*mass*(x*(np.exp(x)*(x-2)+x+2)/(np.exp(x)-x-1)**2)/tsf\n",
        "\n",
        "    sol = optimize.root_scalar(f, bracket=[0, 4], x0 = 3.4, fprime = f_prime, method=\"newton\")\n",
        "    x2[i] = sol.root\n",
        "\n",
        "dc[\"x_n\"] = x2\n",
        "dc[\"A_n\"] = dc[\"SFR_0\"]*t_sf.to(u.yr)*np.exp(dc[\"x_n\"])/(dc[\"x_n\"]**2)"
      ],
      "id": "19c83647",
      "execution_count": null,
      "outputs": []
    },
    {
      "cell_type": "code",
      "metadata": {},
      "source": [
        "print(dc[\"x_n\", \"A_n\"].info(\"stats\"))"
      ],
      "id": "d5c9ec00",
      "execution_count": null,
      "outputs": []
    },
    {
      "cell_type": "code",
      "metadata": {},
      "source": [
        "# Assuming you have already loaded your data into an Astropy table named 'dts'\n",
        "# Replace 'x' with the name of the column you want to plot\n",
        "\n",
        "# Create a histogram\n",
        "hist(dc[\"x_n\"], bins = \"freedman\")  # Adjust the number of bins as needed\n",
        "plt.xlabel('X values')\n",
        "plt.ylabel('Frequency')\n",
        "plt.title('Histogram of Astropy Column \"x\"')\n",
        "plt.show()"
      ],
      "id": "f31a34a2",
      "execution_count": null,
      "outputs": []
    },
    {
      "cell_type": "markdown",
      "metadata": {},
      "source": [
        "### fsolve\n"
      ],
      "id": "27b89d6c"
    },
    {
      "cell_type": "code",
      "metadata": {},
      "source": [
        "from scipy.optimize import fsolve\n",
        "# Example loop\n",
        "x = np.ma.empty(len(dc))\n",
        "A = np.ma.empty(len(dc))\n",
        "for i in range(len(dc)-1):\n",
        "\n",
        "    ratio = ratio_array[i]\n",
        "    mass = mass_array[i]\n",
        "    sfr = sfr_array[i]\n",
        "    def sfrx(z):\n",
        "        x = z[0]\n",
        "        A = z[1]\n",
        "\n",
        "        f = np.zeros(2)\n",
        "        f[0] = ratio - (np.exp(x) - x - 1) / x**2\n",
        "        f[1] = sfr - A * x * tsf * np.exp(-x) / x\n",
        "        return f\n",
        "\n",
        "    # Solve the equation\n",
        "    z = fsolve(sfrx, [3, 10*9])\n",
        "    x[i] = z[0]\n",
        "    A[i] = z[1]\n",
        "\n",
        "    ## mask if sfr ratio or mass is nan\n",
        "    if np.isnan(ratio) or np.isnan(mass):\n",
        "        x[i] = np.nan\n",
        "        A[i] = np.nan\n",
        "\n",
        "dc[\"x_f\"] = MaskedColumn(x, name = \"x\")\n",
        "dc[\"A_f\"] = MaskedColumn(A, name = \"A\", unit = u.solMass)"
      ],
      "id": "a92c2f24",
      "execution_count": null,
      "outputs": []
    },
    {
      "cell_type": "code",
      "metadata": {},
      "source": [
        "print(dc[\"x_f\",\"A_f\"].info([\"attributes\" ,\"stats\"]))"
      ],
      "id": "659212bf",
      "execution_count": null,
      "outputs": []
    },
    {
      "cell_type": "markdown",
      "metadata": {},
      "source": [
        "scatter of x2 and A\n",
        "\n",
        "### Compare the methods\n"
      ],
      "id": "7f644aba"
    },
    {
      "cell_type": "code",
      "metadata": {},
      "source": [
        "plt.scatter(dc[\"x_f\"], dc[\"A_f\"])\n",
        "#plt.scatter(dc[\"x_n\"], dc[\"A_n\"], alpha = 0.7)\n",
        "\n",
        "plt.xlabel('x')\n",
        "plt.yscale(\"log\")\n",
        "plt.title('scatter of x and A')\n",
        "plt.show()"
      ],
      "id": "1396aa68",
      "execution_count": null,
      "outputs": []
    },
    {
      "cell_type": "code",
      "metadata": {},
      "source": [
        "hist(dc[\"x_f\"], bins = \"knuth\")\n",
        "hist(dc[\"x_n\"], bins = \"knuth\", alpha = 0.6)\n",
        "plt.xlabel('x')\n",
        "plt.ylabel(\"Number of galaxies\")\n",
        "plt.title('Hist of x solved with fsolve and Newton')\n",
        "#show the labels\n",
        "plt.legend([\"fsolve\", \"Newton\"])\n",
        "\n",
        "plt.savefig(\"figure/x-hist.png\")\n",
        "plt.close()\n",
        "\n",
        "\"figure/x-hist.png\""
      ],
      "id": "0fdb4e64",
      "execution_count": null,
      "outputs": []
    },
    {
      "cell_type": "code",
      "metadata": {},
      "source": [
        "print(dc[\"x\",\"x2\"].info([\"attributes\" ,\"stats\"]))"
      ],
      "id": "62810e00",
      "execution_count": null,
      "outputs": []
    },
    {
      "cell_type": "code",
      "metadata": {},
      "source": [
        "plt.scatter(dc[\"x_f\"], dc[\"x_n\"])\n",
        "plt.xlabel('$x_{fsolve}$')\n",
        "plt.ylabel(r'$x_{Newton}$')\n",
        "plt.title('scatter of $x_{Newton}$ and $x_{fsolve}$')\n",
        "#savefig and print the file\n",
        "plt.savefig(\"figure/x-scatter.png\")\n",
        "plt.close()\n",
        "\n",
        "\"figure/x-scatter.png\""
      ],
      "id": "aa8603d6",
      "execution_count": null,
      "outputs": []
    },
    {
      "cell_type": "markdown",
      "metadata": {},
      "source": [
        "Since they are both prety much the same, we can assume that the more\n",
        "compact is better, ie fsolve.\n",
        "\n",
        "### Hist of A\n"
      ],
      "id": "5ed61855"
    },
    {
      "cell_type": "code",
      "metadata": {},
      "source": [
        "hist(dc[\"A_f\"], bins = \"blocks\")\n",
        "hist(dc[\"A_n\"], bins = \"blocks\")\n",
        "plt.xscale(\"log\")\n",
        "plt.xlabel('$A_{del}$'+f'[{dc[\"A_n\"].unit:latex}]')\n",
        "\n",
        "plt.legend([\"fsolve\", \"Newton\"])\n",
        "\n",
        "plt.ylabel(\"Number of galaxies\")\n",
        "plt.title('Histogram of $A_{del}$')\n",
        "#save\n",
        "plt.savefig(\"figure/A-hist.png\")\n",
        "plt.close()\n",
        "\n",
        "\"figure/A-hist.png\""
      ],
      "id": "f5c23dad",
      "execution_count": null,
      "outputs": []
    },
    {
      "cell_type": "markdown",
      "metadata": {},
      "source": [
        "## Calculating the t~sf~ and τ of the galaxies\n"
      ],
      "id": "1d222c1b"
    },
    {
      "cell_type": "code",
      "metadata": {},
      "source": [
        "dc['tau'] = t_sf/dc[\"x_f\"]\n",
        "\n",
        "print(dc[\"tau\"].info([\"attributes\", \"stats\"]))"
      ],
      "id": "7edbb624",
      "execution_count": null,
      "outputs": []
    },
    {
      "cell_type": "code",
      "metadata": {},
      "source": [
        "hist(dc[\"tau\"].data, bins = \"freedman\")\n",
        "plt.show()"
      ],
      "id": "7a145a22",
      "execution_count": null,
      "outputs": []
    },
    {
      "cell_type": "code",
      "metadata": {},
      "source": [
        "plt.scatter(dc[\"x_f\"], dc[\"A_f\"], c=np.log10(dc[\"SFR_0\"]/dc[\"SFR_0\"].unit), cmap = \"viridis\")\n",
        "plt.title('Scatter plot of A vs x')\n",
        "plt.xlabel(r'$\\tau$ '+ f'[{dc[\"tau\"].unit:latex}]')\n",
        "plt.ylabel(r'$A$ '+ f'[{dc[\"A_f\"].unit:latex}]')\n",
        "plt.yscale(\"log\")\n",
        "\n",
        "plt.colorbar()\n",
        "plt.show()"
      ],
      "id": "468ead6c",
      "execution_count": null,
      "outputs": []
    },
    {
      "cell_type": "code",
      "metadata": {},
      "source": [
        "print(dc[\"A_n\", \"x_n\"].info())"
      ],
      "id": "6d8478a5",
      "execution_count": null,
      "outputs": []
    },
    {
      "cell_type": "code",
      "metadata": {},
      "source": [
        "plt.scatter(dc[\"A_n\"], dc[\"x_n\"], c=np.log10(dc[\"StellarMass\"]/dc[\"StellarMass\"].unit), cmap = \"viridis\")\n",
        "plt.title('Scatter plot of A vs x')\n",
        "plt.xlabel(r'$\\tau$ '+ f'[{dc[\"tau\"].unit:latex}]')\n",
        "plt.ylabel(r'$A$ '+ f'[{dc[\"A_f\"].unit:latex}]')\n",
        "plt.yscale(\"log\")\n",
        "\n",
        "plt.colorbar()\n",
        "plt.show()"
      ],
      "id": "92c73d93",
      "execution_count": null,
      "outputs": []
    },
    {
      "cell_type": "markdown",
      "metadata": {},
      "source": [
        "### IDEA Check to see if the almost inf points make any sense\n",
        "\n",
        "## [TODO]{.todo .TODO} The gas depletion timescale τ~g~ {#the-gas-depletion-timescale-τg}\n",
        "\n",
        "What is the gas depletion timescale?\n",
        "\n",
        "## [TODO]{.todo .TODO} The theoretical SFR vs the observed {#the-theoretical-sfr-vs-the-observed}\n",
        "\n",
        "# PROJ The relations of the Masses\n",
        "\n",
        "Since the aim of the paper is to find the SFR lets first understand and\n",
        "calculate the masses of the galaxies and see if we can find any relation\n",
        "with the SFR.\n"
      ],
      "id": "ec20b82f"
    },
    {
      "cell_type": "code",
      "metadata": {},
      "source": [
        "df = dc.to_pandas()\n",
        "# Assuming df is your DataFrame\n",
        "# Step 1: Identify non-numeric columns\n",
        "non_numeric_columns = df.select_dtypes(exclude=['float', 'int']).columns\n",
        "\n",
        "# Step 2: Drop non-numeric columns or handle them appropriately\n",
        "df_numeric = df.drop(columns=non_numeric_columns)\n",
        "# Step 3: Replace NaN values with zeros or other appropriate values\n",
        "\n",
        "df_numeric = df_numeric.loc[:, ~df_numeric.columns.str.startswith('e_')]\n",
        "\n",
        "df_numeric = df_numeric.loc[:, ~df_numeric.columns.str.startswith('Name')]\n",
        "df_numeric = df_numeric.loc[:, ~df_numeric.columns.str.startswith('Coord')]\n",
        "df_numeric = df_numeric.loc[:, ~df_numeric.columns.str.startswith('log')]\n",
        "# Step 4: Calculate the correlation matrix\n",
        "correlation_matrix = df_numeric.corr()\n",
        "\n",
        "plt.close(\"all\")"
      ],
      "id": "c4fa771b",
      "execution_count": null,
      "outputs": []
    },
    {
      "cell_type": "code",
      "metadata": {},
      "source": [
        "# Plot heatmap using seaborn\n",
        "sns.heatmap(correlation_matrix, annot=False, cmap='coolwarm', fmt=\".2f\", linewidths=0.5)\n",
        "# Set x-axis tick labels\n",
        "plt.xticks(ticks=np.arange(0.5, len(correlation_matrix.columns)), labels=correlation_matrix.columns, rotation=90)\n",
        "\n",
        "# Set y-axis tick labels\n",
        "plt.yticks(ticks=np.arange(0.5, len(correlation_matrix.index)), labels=correlation_matrix.index, rotation=0)\n",
        "plt.title('Correlation Heatmap')\n",
        "plt.savefig(\"figure/heatmap\")\n",
        "plt.show()\n",
        "plt.close(\"all\")"
      ],
      "id": "0e297650",
      "execution_count": null,
      "outputs": []
    },
    {
      "cell_type": "code",
      "metadata": {},
      "source": [
        "clustermap = sns.clustermap(correlation_matrix, cmap='coolwarm', fmt=\".2f\", linewidths=0.5,\n",
        "                             row_cluster=False, col_cluster=False)\n",
        "\n",
        "ax = clustermap.ax_heatmap\n",
        "\n",
        "# Set x-axis tick labels\n",
        "ax.set_xticks(np.arange(0.5, len(correlation_matrix.columns)))\n",
        "ax.set_xticklabels(correlation_matrix.columns, rotation=90)\n",
        "\n",
        "# Set y-axis tick labels\n",
        "ax.set_yticks(np.arange(0.5, len(correlation_matrix.index)))\n",
        "ax.set_yticklabels(correlation_matrix.index, rotation=0)\n",
        "\n",
        "\n",
        "plt.savefig(\"figure/clustermap\")\n",
        "plt.show()\n",
        "plt.close(\"all\")"
      ],
      "id": "a5483293",
      "execution_count": null,
      "outputs": []
    },
    {
      "cell_type": "markdown",
      "metadata": {},
      "source": [
        "Pairplot with StellarMass, MHI, SFR~0~ and av~SFR~, M26\n"
      ],
      "id": "59c277d0"
    },
    {
      "cell_type": "code",
      "metadata": {},
      "source": [
        "#PairGrid with StellarMass, MHI, SFR_0 and av_SFR_theor, M26\n",
        "#log scale axes\n",
        "\n",
        "sns.pairplot(df, vars=[\"StellarMass\", \"MHI\", \"SFR_0\", \"av_SFR_theor\", \"M26\"], kind=\"reg\", diag_kind=\"kde\")\n",
        "plt.savefig(\"figure/pairplot\")\n",
        "plt.show()\n",
        "plt.close(\"all\")\n",
        "print(df[[\"StellarMass\", \"MHI\", \"SFR_0\", \"av_SFR_theor\", \"M26\", \"M_g\", \"tau\", \"A\"]].corr())"
      ],
      "id": "7ad65809",
      "execution_count": null,
      "outputs": []
    },
    {
      "cell_type": "markdown",
      "metadata": {},
      "source": [
        "# [TODO]{.todo .TODO} The relations of the Data {#the-relations-of-the-data}\n",
        "\n",
        "## [TODO]{.todo .TODO} Luminosity and Masses {#luminosity-and-masses}\n",
        "\n",
        "## [TODO]{.todo .TODO} Variations in Star Formation Rates across the different masses {#variations-in-star-formation-rates-across-the-different-masses}\n",
        "\n",
        "# [TODO]{.todo .TODO} Filling the Catalogue {#filling-the-catalogue}"
      ],
      "id": "7976c0a0"
    }
  ],
  "metadata": {
    "kernelspec": {
      "name": "python3",
      "language": "python",
      "display_name": "Python 3 (ipykernel)"
    }
  },
  "nbformat": 4,
  "nbformat_minor": 5
}