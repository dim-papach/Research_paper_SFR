{
  "cells": [
    {
      "cell_type": "raw",
      "metadata": {},
      "source": [
        "---\n",
        "title: \"Comparison of Catalogs\"\n",
        "format: html\n",
        "toc: true\n",
        "toc-depth: 2\n",
        "theme: minti\n",
        "bibliography: ../My_Library.bib\n",
        "execute: \n",
        "  echo: false\n",
        "  eval: true\n",
        "  warning: false\n",
        "---"
      ],
      "id": "2d8cc778"
    },
    {
      "cell_type": "markdown",
      "metadata": {},
      "source": [
        "# The data\n",
        "\n",
        "In this script we will compare out 2 catalogs @kovlakasHeraklionExtragalacticCatalogue2021 and [@karachentsevUPDATEDNEARBYGALAXY2013, @karachentsevSTARFORMATIONPROPERTIES2013a]\n",
        "\n",
        "-   The data have been joined based on their position in the sky (Ra, Dec, Distance).\n",
        "-   We use TOPCAT to create two joins, an inner and an outer join\n",
        "-   We will use the inner join for 1-1 comparisons\n",
        "-   If we see that the data are similar we can use the outer join\n"
      ],
      "id": "50874535"
    },
    {
      "cell_type": "code",
      "metadata": {},
      "source": [
        "#| echo: false\n",
        "import numpy as np\n",
        "import matplotlib.pyplot as plt\n",
        "from sklearn.metrics import r2_score\n",
        "from astropy.io import ascii\n",
        "from astropy.coordinates import SkyCoord\n",
        "from astropy.table import Table, join, QTable\n",
        "import astropy.units as u\n",
        "from astropy.visualization import quantity_support, hist\n",
        "#quantity_support()\n",
        "from astropy.stats import sigma_clip, SigmaClip\n",
        "from astropy.modeling import models, fitting\n",
        "from scipy.stats import pearsonr\n",
        "import seaborn as sns\n",
        "import pandas as pd\n",
        "import glob\n",
        "import os\n",
        "plt.style.use('ggplot')\n",
        "pd.set_option('display.float_format', lambda x: '%.f' % x)\n",
        "\n",
        "dt = QTable(ascii.read(\"../tables/inner_join.ecsv\"), masked=True)"
      ],
      "id": "b81f6dd8",
      "execution_count": null,
      "outputs": []
    },
    {
      "cell_type": "markdown",
      "metadata": {},
      "source": [
        "The dataset we are going to use consists of `{python} len(dt)` galaxies and `{python} len(dt.colnames)` columns.\n",
        "\n",
        "# How are we going to compare the data?\n",
        "\n",
        "## Scatter plots and $R^2$ calculation\n",
        "\n",
        "1.  $R^2$: Measures the proportion of variance explained by the linear model.\n",
        "2.  Slope of the Fitted Line: Should be close to 1 for a 1-1 correlation.[^1]\n",
        "3.  Pearson Correlation $\\rho$: Measures the strength and direction of the linear relationship between two variables, ranging from -1 to 1. [^2]\n",
        "\n",
        "[^1]: Fitting can be done using the uncertainties as weights. To get the standard weighting of 1/unc\\^2, assuming Gaussian errors, the weights to pass to the fitting are 1/unc.\n",
        "\n",
        "[^2]: In simple linear regression, $R^2$ is the square of the Pearson correlation coefficient $\\rho$.\n"
      ],
      "id": "2d35c448"
    },
    {
      "cell_type": "code",
      "metadata": {},
      "source": [
        "def compare_data(x, y, sigma = False):\n",
        "    \"\"\"\n",
        "    Performs a linear comparison between two datasets.\n",
        "    \n",
        "    This function fits a linear model to the data, calculates the slope and intercept of the fitted line,\n",
        "    and computes the R-squared value and Pearson correlation coefficient to assess the fit quality.\n",
        "    \n",
        "    Parameters:\n",
        "    - x (array-like): The independent variable data.\n",
        "    - y (array-like): The dependent variable data.\n",
        "    - unc (array-like with units, optional): The uncertainties associated with the a variable data. Default is None.\n",
        "\n",
        "    Returns:\n",
        "    tuple: A tuple containing the following elements:\n",
        "        - slope (float): The slope of the fitted linear model.\n",
        "        - intercept (float): The intercept of the fitted linear model.\n",
        "        - r2 (float): The R-squared value, indicating the proportion of variance explained by the linear model.\n",
        "        - corr (float): The Pearson correlation coefficient, measuring the linear correlation between x and y.\n",
        "    \"\"\"\n",
        "    try:\n",
        "        x_data = np.ma.array(x.value, mask=np.isnan(x.value))\n",
        "        y_data = np.ma.array(y.value, mask=np.isnan(y.value))\n",
        "        # initialize a linear fitter\n",
        "        fit = fitting.LinearLSQFitter()\n",
        "\n",
        "        # initialize a linear model\n",
        "        line_init = models.Linear1D()\n",
        "\n",
        "        # fit the data with the fitter\n",
        "        # check if sigma\n",
        "        if sigma is False:\n",
        "            fitted_line = fit(line_init, x_data, y_data)\n",
        "            outliers = None\n",
        "        else:\n",
        "            or_fit = fitting.FittingWithOutlierRemoval(fit, sigma_clip, niter =3, sigma=3)\n",
        "            fitted_line, outliers = or_fit(line_init, x_data, y_data)\n",
        "        slope = fitted_line.slope.value\n",
        "        intercept = fitted_line.intercept.value\n",
        "\n",
        "        # Predict values using the fitted model\n",
        "        y_pred = fitted_line(x_data)\n",
        "\n",
        "        # Remove NaN values\n",
        "        mask = ~np.isnan(y_data)\n",
        "        if outliers is not None:\n",
        "            mask = ~np.isnan(y_data) & ~outliers\n",
        "        y_data_clean = y_data[mask]\n",
        "        y_pred_clean = y_pred[mask]\n",
        "\n",
        "        # Calculate R-squared\n",
        "        r2 = r2_score(y_data_clean, y_pred_clean)\n",
        "\n",
        "        # Calculate Pearson correlation coefficient\n",
        "        corr = np.sqrt(np.abs(r2))\n",
        "\n",
        "        return slope, intercept, r2, corr, outliers\n",
        "    except Exception:\n",
        "        return 0,0,0,0,None"
      ],
      "id": "e12fd459",
      "execution_count": null,
      "outputs": []
    },
    {
      "cell_type": "markdown",
      "metadata": {},
      "source": [
        "4.  [Plots]{.underline}: Plots are essential for visually assessing the relationship between two datasets, identifying correlations, trends, and outliers, and evaluating the fit of linear models.\n"
      ],
      "id": "7529a0cc"
    },
    {
      "cell_type": "code",
      "metadata": {},
      "source": [
        "def scatter_plot(x, y, xerr = None, yerr = None, sigma = False, logscale = False):\n",
        "    \"\"\"\n",
        "    Generates a scatter plot of two datasets with optional error bars, fits a linear model to the data, \n",
        "    and displays the fitted line on the plot.\n",
        "\n",
        "    Parameters:\n",
        "    - x (array-like with units): Independent variable data.\n",
        "    - y (array-like with units): Dependent variable data.\n",
        "    - xerr (array-like, optional): Error in the independent variable data. Default is 0.\n",
        "    - yerr (array-like, optional): Error in the dependent variable data. Default is 0.\n",
        "\n",
        "    Returns:\n",
        "    None. The function displays a scatter plot with a fitted linear model.\n",
        "    \"\"\"\n",
        "    # Convert data to masked arrays, masking NaN values\n",
        "    x_data = np.ma.array(x.value, mask=np.isnan(x.value))\n",
        "    y_data =  np.ma.array(y.value, mask=np.isnan(y.value))\n",
        "\n",
        "    # Handle default values for xerr and yerr\n",
        "    if xerr is None:\n",
        "        xerr_d = 0\n",
        "    else:\n",
        "        xerr_d = np.ma.array(xerr.value, mask=np.isnan(xerr))\n",
        "    if yerr is None:\n",
        "        yerr_d = 0\n",
        "    else:\n",
        "        yerr_d = np.ma.array(yerr.value, mask=np.isnan(yerr))\n",
        "\n",
        "    \n",
        "    # Perform linear comparison between the datasets\n",
        "    c, m, r2, corr, outliers = compare_data(x, y, sigma)\n",
        "\n",
        "    # Plot the data with error bars\n",
        "    # errorbar -> needs np.ma -> no units\n",
        "    if outliers is not None:\n",
        "        filtered_data = np.ma.masked_array(y.value , mask = outliers)\n",
        "        outlier_percentage = (np.sum(outliers) / len(outliers)) * 100\n",
        "\n",
        "        plt.errorbar(x.value, y.value, yerr=yerr_d, c = \"black\", label=\"Clipped Data, {} ({}%)\".format(np.sum(outliers), round(outlier_percentage,1)), fmt = \"o\", fillstyle = \"none\")\n",
        "        plt.scatter(x[~outliers], y[~outliers],  label=f\"Fitted Data, {np.sum(~filtered_data.mask)}\", c = \"blue\")\n",
        "\n",
        "    else:\n",
        "        plt.errorbar(x_data, y_data, xerr = xerr_d, yerr = yerr_d, alpha = 0.3, c = \"blue\", label = \"Data\", fmt = \".\")\n",
        "    \n",
        "    # Plot the fitted line \n",
        "    if c!=0:\n",
        "        plt.plot(x, c*x.value+ m, c = \"red\", label = f\"Fit: {y.info.name}$_H $= {c:.2f}$\\cdot${x.info.name}$_L${m:+.2f}\\n $R^2=$ {r2:.2f}\")\n",
        "\n",
        "    # Set plot labels\n",
        "    plt.xlabel(f\"LCV, {x.info.name} [{x.unit}]\")\n",
        "    plt.ylabel(f\"HECATE, {y.info.name} [{y.unit}]\")\n",
        "\n",
        "    # Display legend\n",
        "    plt.legend()\n",
        "    \n",
        "    # Show the plot\n",
        "    plt.show()"
      ],
      "id": "e18b9c61",
      "execution_count": null,
      "outputs": []
    },
    {
      "cell_type": "markdown",
      "metadata": {},
      "source": [
        "Some data seem to have a very good linear correlation but they have many outliers. This is why we will clip the outliers with $sigma > 3$\n",
        "\n",
        "-   Correlation Heatmaps: A correlation heatmap is a graphical tool that displays the correlation between multiple variables as a color-coded matrix. It’s like a color chart that shows us how closely related different variables are.\n",
        "\n",
        "In a correlation heatmap, each variable is represented by a row and a column, and the cells show the correlation between them. The color of each cell represents the strength and direction of the correlation, with darker colors indicating stronger correlations.\n",
        "\n",
        "-   Histograms: Because not all of our data have the same number of counts, the comparison with histograms between data that are not the same, doesn't help us right now.[^3] This is why we will only use histograms for comparing the distribution of same-data columns normalized by their maximum value\n",
        "\n",
        "[^3]: When we will use the outer join table we could use histograms due to the large number of counts.\n",
        "\n",
        "<!-- -->\n",
        "\n",
        "-   Percentage change: We can calculate the percentage change of the data for each galaxy and then we can see if the data are similar, based on minimum, the maximum and the mean value of the difference.\n",
        "\n",
        "$$\\text{Percentage change} = \\frac{V_{Hecate} - V_{LCV}}{V_{Hecate}}\\cdot 100 \\%$$\n"
      ],
      "id": "d73bc526"
    },
    {
      "cell_type": "code",
      "metadata": {},
      "source": [
        "def relative_diff(hec, lcv):\n",
        "    \"\"\"\n",
        "    Calculate the relative difference between two sets of values.\n",
        "\n",
        "    Parameters:\n",
        "    hec (numpy.ndarray): An array of values representing the HEC dataset.\n",
        "    lcv (numpy.ndarray): An array of values representing the LCV dataset.\n",
        "\n",
        "    Returns:\n",
        "    numpy.ndarray: An array of relative differences between the HEC and LCV datasets.\n",
        "    The relative difference is calculated as ((HEC - LCV) * 100) / |HEC|.\n",
        "    Any infinite values in the result are replaced with NaN.\n",
        "    \"\"\"\n",
        "    diff = (hec - lcv) * 100 / np.abs(hec)\n",
        "    diff[np.isinf(diff)] = np.nan\n",
        "    return diff\n",
        "\n",
        "def percent_desc_histogram(x, sigmaclip = True, zoom = None):\n",
        "    \"\"\"\n",
        "    This function creates a histogram of the given data and optionally applies a 3-sigma clip.\n",
        "    \n",
        "    Parameters:\n",
        "    - x (array-like): The input data to create the histogram.\n",
        "    - sigmaclip (bool, optional): Whether to apply a 3-sigma clip to the data. Default is True.\n",
        "    - zoom (tuple, optional): The range of values to display on the x-axis of the histogram. Default is None.\n",
        "    \n",
        "    Returns:\n",
        "    - t_pd (DataFrame): A pandas DataFrame containing statistical information about the input data.\n",
        "    \n",
        "    The function uses the seaborn library to create the histogram and applies a 3-sigma clip if `sigmaclip` is True.\n",
        "    The histogram is displayed with appropriate labels and titles.\n",
        "    The statistical information about the input data is returned as a pandas DataFrame.\n",
        "    \"\"\"\n",
        "    plt.close()\n",
        "    temp_table = QTable()\n",
        "    temp_table[\"Percentage change\"]= x.copy()\n",
        "    \n",
        "    if sigmaclip is True:\n",
        "        temp_table[\"Percentage change, after 3 sigma clip\"] = sigma_clip(temp_table[\"Percentage change\"],3)\n",
        "    \n",
        "    t_pd = temp_table.to_pandas()\n",
        "    \n",
        "    sns.histplot(temp_table[\"Percentage change\"], kde = True, label = \"Percentage change\")\n",
        "    \n",
        "    if sigmaclip is True:\n",
        "        sns.histplot(temp_table[\"Percentage change, after 3 sigma clip\"], kde = True, label = \"Percentage change, after 3 sigma clip\")\n",
        "    \n",
        "    plt.xlim(zoom)\n",
        "    plt.xlabel(\"Percentage change Distribution [%]\")\n",
        "    plt.title(\"Types of Galaxies\")\n",
        "    plt.legend()\n",
        "    plt.show()\n",
        "    \n",
        "    return t_pd.describe(percentiles=[]).map('{:,.0f}'.format).style.set_properties(**{'text-align': 'center'})"
      ],
      "id": "2a72c8d8",
      "execution_count": null,
      "outputs": []
    },
    {
      "cell_type": "markdown",
      "metadata": {},
      "source": [
        "# Comparable data\n",
        "\n",
        "## Coordinates\n"
      ],
      "id": "51f2dce5"
    },
    {
      "cell_type": "code",
      "metadata": {},
      "source": [
        "#| echo: false\n",
        "ra_corr = round(compare_data(dt[\"Ra_1\"],dt[\"RA_2\"])[3],3)\n",
        "dec_corr = round(compare_data(dt[\"Dec_1\"],dt[\"DEC_2\"])[3],3)\n",
        "d_corr = round(compare_data(dt[\"Dis\"],dt[\"D\"])[3],3)"
      ],
      "id": "0351e724",
      "execution_count": null,
      "outputs": []
    },
    {
      "cell_type": "markdown",
      "metadata": {},
      "source": [
        "|  LCV  | HECATE |   Description   | Pearson Correlation \\[-1,1\\] |\n",
        "|:-----:|:------:|:---------------:|:----------------------------:|\n",
        "| Ra_1  |  RA_2  | Right Ascension |      `{python} ra_corr`      |\n",
        "| Dec_1 | DEC_2  |   Declination   |     `{python} dec_corr`      |\n",
        "|  Dis  |   D    |    Distance     |      `{python} d_corr`       |\n",
        "\n",
        "::: panel-tabset\n",
        "## Right Ascension\n"
      ],
      "id": "081ce135"
    },
    {
      "cell_type": "code",
      "metadata": {},
      "source": [
        "scatter_plot(dt[\"Ra_1\"], dt[\"RA_2\"])"
      ],
      "id": "07e02e3f",
      "execution_count": null,
      "outputs": []
    },
    {
      "cell_type": "markdown",
      "metadata": {},
      "source": [
        "## Declination\n"
      ],
      "id": "a5e3a58d"
    },
    {
      "cell_type": "code",
      "metadata": {},
      "source": [
        "scatter_plot(dt[\"Dec_1\"], dt[\"DEC_2\"]), "
      ],
      "id": "3b228b64",
      "execution_count": null,
      "outputs": []
    },
    {
      "cell_type": "markdown",
      "metadata": {},
      "source": [
        "## Distance\n"
      ],
      "id": "50e50430"
    },
    {
      "cell_type": "code",
      "metadata": {},
      "source": [
        "scatter_plot(dt[\"Dis\"], dt[\"D\"])"
      ],
      "id": "dd8abc79",
      "execution_count": null,
      "outputs": []
    },
    {
      "cell_type": "markdown",
      "metadata": {},
      "source": [
        ":::\n",
        "\n",
        "## Velocities\n"
      ],
      "id": "29800683"
    },
    {
      "cell_type": "code",
      "metadata": {},
      "source": [
        "rvel_corr = round(compare_data(dt[\"RVel\"],dt[\"V\"])[3],3)\n",
        "rvel_corr_v = round(compare_data(dt[\"RVel\"],dt[\"V_VIR\"])[3],3)\n",
        "vlg_corr = round(compare_data(dt[\"VLG\"],dt[\"V\"])[3],3)\n",
        "vlg_corr_v = round(compare_data(dt[\"VLG\"],dt[\"V_VIR\"])[3],3)\n",
        "cz_corr = round(compare_data(dt[\"cz\"],dt[\"V\"])[3],3)\n",
        "cz_corr_v = round(compare_data(dt[\"cz\"],dt[\"V_VIR\"])[3],3)"
      ],
      "id": "57fcd05c",
      "execution_count": null,
      "outputs": []
    },
    {
      "cell_type": "markdown",
      "metadata": {},
      "source": [
        "|     LCV     |    HECATE    |              Description               |  Linear Correlation  |\n",
        "|:----------------:|:-----------------:|:----------------:|:----------------:|\n",
        "| RVel (km/s) |   V (km/s)   |      Heliocentric radial velocity      | `{python} rvel_corr` |\n",
        "| VLG (km/s)  |              |            Radial velocity             |                      |\n",
        "|  cz (km/s)  |              |         Heliocentric velocity          |                      |\n",
        "|             | V_VIR (km/s) | Virgo-infall corrected radial velocity |                      |\n",
        "\n",
        "::: panel-tabset\n",
        "## Heliocentric radial Velocity\n"
      ],
      "id": "d83ec19a"
    },
    {
      "cell_type": "code",
      "metadata": {},
      "source": [
        "scatter_plot(dt[\"RVel\"], dt[\"V\"], yerr = dt[\"E_V\"])"
      ],
      "id": "bca5fde4",
      "execution_count": null,
      "outputs": []
    },
    {
      "cell_type": "markdown",
      "metadata": {},
      "source": [
        "## Scatter Grid\n"
      ],
      "id": "c1191f92"
    },
    {
      "cell_type": "code",
      "metadata": {},
      "source": [
        "vel_data = dt[[\"RVel\", \"V\", \"VLG\", \"cz\", \"V_VIR\"]].to_pandas()\n",
        "\n",
        "# Create a pair grid\n",
        "sns.pairplot(vel_data, corner=True)\n",
        "plt.show()"
      ],
      "id": "c53added",
      "execution_count": null,
      "outputs": []
    },
    {
      "cell_type": "markdown",
      "metadata": {},
      "source": [
        "\\[?\\] The close correlation between all of the velocities, could be due to the fact that all of them measure the velocity of each galaxy, but from a different frame of reference. \n",
        "\n",
        "## Heatmap\n"
      ],
      "id": "a09870d8"
    },
    {
      "cell_type": "code",
      "metadata": {},
      "source": [
        "# Compute the correlation matrix\n",
        "corr_matrix = vel_data.corr()\n",
        "\n",
        "# Create a heatmap\n",
        "plt.figure(figsize=(10, 8))\n",
        "sns.heatmap(corr_matrix, annot=True, cmap=\"coolwarm\", vmin=-1, vmax=1)\n",
        "plt.title(\"Correlation Heatmap of Velocity Values\")\n",
        "plt.show()"
      ],
      "id": "ed61d7ea",
      "execution_count": null,
      "outputs": []
    },
    {
      "cell_type": "markdown",
      "metadata": {},
      "source": [
        ":::\n",
        "\n",
        "## Morphology and Geometry\n"
      ],
      "id": "13972e02"
    },
    {
      "cell_type": "code",
      "metadata": {},
      "source": [
        "dt[\"INCL\"].mask = np.isnan(dt[\"INCL\"])"
      ],
      "id": "d86e27fc",
      "execution_count": null,
      "outputs": []
    },
    {
      "cell_type": "code",
      "metadata": {},
      "source": [
        "#| echo: false\n",
        " \n",
        "ttype_corr = round(compare_data(dt[\"TType\"], dt[\"T\"])[3], 4)\n",
        "inc_corr = round(compare_data(dt[\"inc\"], dt[\"INCL\"], sigma = True)[3], 3)\n",
        "a26_corr = round(compare_data(dt[\"a26_1\"], dt[\"R1\"], sigma =False)[3], 3)"
      ],
      "id": "284fcfd9",
      "execution_count": null,
      "outputs": []
    },
    {
      "cell_type": "markdown",
      "metadata": {},
      "source": [
        "|      LCV      |        HECATE        |                        Description                        | Pearson Correlation \\[-1,1\\] |\n",
        "|:----------------:|:----------------:|:-----------------:|:----------------:|\n",
        "|     TType     |   T (with errors)    | Numerical Hubble type following the de Vaucouleurs system |    `{python} ttype_corr`     |\n",
        "|      inc      |         INCL         |                     Inclination (deg)                     |     `{python} inc_corr`      |\n",
        "| a26_1 (Major) | R1 (Semi-major axis) |                 angular diameter (arcmin)                 |     `{python} a26_corr`      |\n",
        "\n",
        "::: panel-tabset\n",
        "## Galaxy Types\n",
        "\n",
        "\n",
        "```{=html}\n",
        "<table style=\"border-collapse:collapse;border-spacing:0\" class=\"tg\"><thead>\n",
        "<tr><th style=\"border-color:inherit;border-style:solid;border-width:1px;font-family:Arial, sans-serif;font-size:14px;font-weight:normal;overflow:hidden;padding:10px 5px;text-align:center;vertical-align:top;word-break:normal\">Hubble stage T </th><th style=\"border-color:inherit;border-style:solid;border-width:1px;font-family:Arial, sans-serif;font-size:14px;font-weight:normal;overflow:hidden;padding:10px 5px;text-align:center;vertical-align:top;word-break:normal\">−6 </th><th style=\"border-color:inherit;border-style:solid;border-width:1px;font-family:Arial, sans-serif;font-size:14px;font-weight:normal;overflow:hidden;padding:10px 5px;text-align:center;vertical-align:top;word-break:normal\">−5 </th><th style=\"border-color:inherit;border-style:solid;border-width:1px;font-family:Arial, sans-serif;font-size:14px;font-weight:normal;overflow:hidden;padding:10px 5px;text-align:center;vertical-align:top;word-break:normal\">−4 </th>\n",
        "<th style=\"border-color:inherit;border-style:solid;border-width:1px;font-family:Arial, sans-serif;font-size:14px;font-weight:normal;overflow:hidden;padding:10px 5px;text-align:center;vertical-align:top;word-break:normal\">−3 </th><th style=\"border-color:inherit;border-style:solid;border-width:1px;font-family:Arial, sans-serif;font-size:14px;font-weight:normal;overflow:hidden;padding:10px 5px;text-align:center;vertical-align:top;word-break:normal\">−2 </th><th style=\"border-color:inherit;border-style:solid;border-width:1px;font-family:Arial, sans-serif;font-size:14px;font-weight:normal;overflow:hidden;padding:10px 5px;text-align:center;vertical-align:top;word-break:normal\">−1 </th><th style=\"border-color:inherit;border-style:solid;border-width:1px;font-family:Arial, sans-serif;font-size:14px;font-weight:normal;overflow:hidden;padding:10px 5px;text-align:center;vertical-align:top;word-break:normal\">0 </th>\n",
        "<th style=\"border-color:inherit;border-style:solid;border-width:1px;font-family:Arial, sans-serif;font-size:14px;font-weight:normal;overflow:hidden;padding:10px 5px;text-align:center;vertical-align:top;word-break:normal\">1 </th><th style=\"border-color:inherit;border-style:solid;border-width:1px;font-family:Arial, sans-serif;font-size:14px;font-weight:normal;overflow:hidden;padding:10px 5px;text-align:center;vertical-align:top;word-break:normal\">2 </th><th style=\"border-color:inherit;border-style:solid;border-width:1px;font-family:Arial, sans-serif;font-size:14px;font-weight:normal;overflow:hidden;padding:10px 5px;text-align:center;vertical-align:top;word-break:normal\">3 </th><th style=\"border-color:inherit;border-style:solid;border-width:1px;font-family:Arial, sans-serif;font-size:14px;font-weight:normal;overflow:hidden;padding:10px 5px;text-align:center;vertical-align:top;word-break:normal\">4 </th>\n",
        "<th style=\"border-color:inherit;border-style:solid;border-width:1px;font-family:Arial, sans-serif;font-size:14px;font-weight:normal;overflow:hidden;padding:10px 5px;text-align:center;vertical-align:top;word-break:normal\">5 </th><th style=\"border-color:inherit;border-style:solid;border-width:1px;font-family:Arial, sans-serif;font-size:14px;font-weight:normal;overflow:hidden;padding:10px 5px;text-align:center;vertical-align:top;word-break:normal\">6 </th><th style=\"border-color:inherit;border-style:solid;border-width:1px;font-family:Arial, sans-serif;font-size:14px;font-weight:normal;overflow:hidden;padding:10px 5px;text-align:center;vertical-align:top;word-break:normal\">7 </th><th style=\"border-color:inherit;border-style:solid;border-width:1px;font-family:Arial, sans-serif;font-size:14px;font-weight:normal;overflow:hidden;padding:10px 5px;text-align:center;vertical-align:top;word-break:normal\">8 </th>\n",
        "<th style=\"border-color:inherit;border-style:solid;border-width:1px;font-family:Arial, sans-serif;font-size:14px;font-weight:normal;overflow:hidden;padding:10px 5px;text-align:center;vertical-align:top;word-break:normal\">9 </th><th style=\"border-color:inherit;border-style:solid;border-width:1px;font-family:Arial, sans-serif;font-size:14px;font-weight:normal;overflow:hidden;padding:10px 5px;text-align:center;vertical-align:top;word-break:normal\">10 </th><th style=\"border-color:inherit;border-style:solid;border-width:1px;font-family:Arial, sans-serif;font-size:14px;font-weight:normal;overflow:hidden;padding:10px 5px;text-align:center;vertical-align:top;word-break:normal\">11 </th></tr>\n",
        "</thead>\n",
        "<tbody>\n",
        "<tr><td style=\"border-color:inherit;border-style:solid;border-width:1px;font-family:Arial, sans-serif;font-size:14px;overflow:hidden;padding:10px 5px;text-align:center;vertical-align:top;word-break:normal\">de Vaucouleurs class </td><td style=\"border-color:inherit;border-style:solid;border-width:1px;font-family:Arial, sans-serif;font-size:14px;overflow:hidden;padding:10px 5px;text-align:center;vertical-align:top;word-break:normal\">cE </td><td style=\"border-color:inherit;border-style:solid;border-width:1px;font-family:Arial, sans-serif;font-size:14px;overflow:hidden;padding:10px 5px;text-align:center;vertical-align:top;word-break:normal\">E </td><td style=\"border-color:inherit;border-style:solid;border-width:1px;font-family:Arial, sans-serif;font-size:14px;overflow:hidden;padding:10px 5px;text-align:center;vertical-align:top;word-break:normal\">E+ </td>\n",
        "<td style=\"border-color:inherit;border-style:solid;border-width:1px;font-family:Arial, sans-serif;font-size:14px;overflow:hidden;padding:10px 5px;text-align:center;vertical-align:top;word-break:normal\">S0− </td><td style=\"border-color:inherit;border-style:solid;border-width:1px;font-family:Arial, sans-serif;font-size:14px;overflow:hidden;padding:10px 5px;text-align:center;vertical-align:top;word-break:normal\">S00 </td><td style=\"border-color:inherit;border-style:solid;border-width:1px;font-family:Arial, sans-serif;font-size:14px;overflow:hidden;padding:10px 5px;text-align:center;vertical-align:top;word-break:normal\">S0+ </td><td style=\"border-color:inherit;border-style:solid;border-width:1px;font-family:Arial, sans-serif;font-size:14px;overflow:hidden;padding:10px 5px;text-align:center;vertical-align:top;word-break:normal\">S0/a </td>\n",
        "<td style=\"border-color:inherit;border-style:solid;border-width:1px;font-family:Arial, sans-serif;font-size:14px;overflow:hidden;padding:10px 5px;text-align:center;vertical-align:top;word-break:normal\">Sa </td><td style=\"border-color:inherit;border-style:solid;border-width:1px;font-family:Arial, sans-serif;font-size:14px;overflow:hidden;padding:10px 5px;text-align:center;vertical-align:top;word-break:normal\">Sab </td><td style=\"border-color:inherit;border-style:solid;border-width:1px;font-family:Arial, sans-serif;font-size:14px;overflow:hidden;padding:10px 5px;text-align:center;vertical-align:top;word-break:normal\">Sb </td><td style=\"border-color:inherit;border-style:solid;border-width:1px;font-family:Arial, sans-serif;font-size:14px;overflow:hidden;padding:10px 5px;text-align:center;vertical-align:top;word-break:normal\">Sbc </td>\n",
        "<td style=\"border-color:inherit;border-style:solid;border-width:1px;font-family:Arial, sans-serif;font-size:14px;overflow:hidden;padding:10px 5px;text-align:center;vertical-align:top;word-break:normal\">Sc </td><td style=\"border-color:inherit;border-style:solid;border-width:1px;font-family:Arial, sans-serif;font-size:14px;overflow:hidden;padding:10px 5px;text-align:center;vertical-align:top;word-break:normal\">Scd </td><td style=\"border-color:inherit;border-style:solid;border-width:1px;font-family:Arial, sans-serif;font-size:14px;overflow:hidden;padding:10px 5px;text-align:center;vertical-align:top;word-break:normal\">Sd </td><td style=\"border-color:inherit;border-style:solid;border-width:1px;font-family:Arial, sans-serif;font-size:14px;overflow:hidden;padding:10px 5px;text-align:center;vertical-align:top;word-break:normal\">Sdm </td>\n",
        "<td style=\"border-color:inherit;border-style:solid;border-width:1px;font-family:Arial, sans-serif;font-size:14px;overflow:hidden;padding:10px 5px;text-align:center;vertical-align:top;word-break:normal\">Sm </td><td style=\"border-color:inherit;border-style:solid;border-width:1px;font-family:Arial, sans-serif;font-size:14px;overflow:hidden;padding:10px 5px;text-align:center;vertical-align:top;word-break:normal\">Im </td><td style=\"border-color:inherit;border-style:solid;border-width:1px;font-family:Arial, sans-serif;font-size:14px;overflow:hidden;padding:10px 5px;text-align:center;vertical-align:top;word-break:normal\"> </td></tr>\n",
        "<tr><td style=\"border-color:inherit;border-style:solid;border-width:1px;font-family:Arial, sans-serif;font-size:14px;overflow:hidden;padding:10px 5px;text-align:center;vertical-align:top;word-break:normal\">Approximate Hubble class </td><td style=\"border-color:inherit;border-style:solid;border-width:1px;font-family:Arial, sans-serif;font-size:14px;overflow:hidden;padding:10px 5px;text-align:center;vertical-align:top;word-break:normal\" colspan=\"3\">E </td><td style=\"border-color:inherit;border-style:solid;border-width:1px;font-family:Arial, sans-serif;font-size:14px;overflow:hidden;padding:10px 5px;text-align:center;vertical-align:top;word-break:normal\" colspan=\"3\">S0 </td><td style=\"border-color:inherit;border-style:solid;border-width:1px;font-family:Arial, sans-serif;font-size:14px;overflow:hidden;padding:10px 5px;text-align:center;vertical-align:top;word-break:normal\">S0/a </td>\n",
        "<td style=\"border-color:inherit;border-style:solid;border-width:1px;font-family:Arial, sans-serif;font-size:14px;overflow:hidden;padding:10px 5px;text-align:center;vertical-align:top;word-break:normal\">Sa </td><td style=\"border-color:inherit;border-style:solid;border-width:1px;font-family:Arial, sans-serif;font-size:14px;overflow:hidden;padding:10px 5px;text-align:center;vertical-align:top;word-break:normal\">Sa-b </td><td style=\"border-color:inherit;border-style:solid;border-width:1px;font-family:Arial, sans-serif;font-size:14px;overflow:hidden;padding:10px 5px;text-align:center;vertical-align:top;word-break:normal\">Sb </td><td style=\"border-color:inherit;border-style:solid;border-width:1px;font-family:Arial, sans-serif;font-size:14px;overflow:hidden;padding:10px 5px;text-align:center;vertical-align:top;word-break:normal\">Sb-c </td>\n",
        "<td style=\"border-color:inherit;border-style:solid;border-width:1px;font-family:Arial, sans-serif;font-size:14px;overflow:hidden;padding:10px 5px;text-align:center;vertical-align:top;word-break:normal\" colspan=\"3\">Sc </td><td style=\"border-color:inherit;border-style:solid;border-width:1px;font-family:Arial, sans-serif;font-size:14px;overflow:hidden;padding:10px 5px;text-align:center;vertical-align:top;word-break:normal\">Sc-Irr </td><td style=\"border-color:inherit;border-style:solid;border-width:1px;font-family:Arial, sans-serif;font-size:14px;overflow:hidden;padding:10px 5px;text-align:center;vertical-align:top;word-break:normal\">Irr I </td><td style=\"border-color:inherit;border-style:solid;border-width:1px;font-family:Arial, sans-serif;font-size:14px;overflow:hidden;padding:10px 5px;text-align:center;vertical-align:top;word-break:normal\"></td>\n",
        "<td style=\"border-color:inherit;border-style:solid;border-width:1px;font-family:Arial, sans-serif;font-size:14px;overflow:hidden;padding:10px 5px;text-align:center;vertical-align:top;word-break:normal\"></td></tr>\n",
        "</tbody></table>\n",
        "```"
      ],
      "id": "81f433c9"
    },
    {
      "cell_type": "code",
      "metadata": {},
      "source": [
        "scatter_plot(dt[\"TType\"], dt[\"T\"], yerr = dt[\"E_T\"])"
      ],
      "id": "70f92ceb",
      "execution_count": null,
      "outputs": []
    },
    {
      "cell_type": "markdown",
      "metadata": {},
      "source": [
        "**Percentage change:**\n"
      ],
      "id": "49549c79"
    },
    {
      "cell_type": "code",
      "metadata": {},
      "source": [
        "dt[\"diff_T\"] = relative_diff(hec = dt[\"T\"], lcv = dt[\"TType\"])\n",
        "percent_desc_histogram(dt[\"diff_T\"], zoom = [-200,200])"
      ],
      "id": "b371c083",
      "execution_count": null,
      "outputs": []
    },
    {
      "cell_type": "markdown",
      "metadata": {},
      "source": [
        "## Inclination\n"
      ],
      "id": "40d2cbc7"
    },
    {
      "cell_type": "code",
      "metadata": {},
      "source": [
        "temp = dt[[\"inc\", \"INCL\"]].to_pandas()\n",
        "\n",
        "sns.histplot(temp[[\"inc\", \"INCL\"]], kde = True)\n",
        "plt.xlabel(\"Inclination of galaxies [deg]\")\n",
        "plt.show()\n",
        "\n",
        "temp[\"Percentage Change [%]\"] = (-temp[\"inc\"] + temp[\"INCL\"])/temp[\"INCL\"]\n",
        "temp.loc[np.isinf(temp[\"Percentage Change [%]\"]), \"Percentage Change [%]\"] = np.nan\n",
        "sns.histplot(temp[\"Percentage Change [%]\"], kde = True)\n",
        "plt.show()\n",
        "temp.describe()"
      ],
      "id": "6f58c4b6",
      "execution_count": null,
      "outputs": []
    },
    {
      "cell_type": "markdown",
      "metadata": {},
      "source": [
        "We can see that for values in the range $[\\sim 30^\\circ,\\sim 80^\\circ]$, the values of the LCV inclination are higher. However, since their means, median, min and maxes are similar and the percentage change is practically 0% (mean, median, $\\sigma$ = 0 with a range $[-3\\%,1\\%]$), we can ignore the differences and assume they are the same values.\n",
        "\n",
        "## Major Axis\n"
      ],
      "id": "08883d6b"
    },
    {
      "cell_type": "code",
      "metadata": {},
      "source": [
        "scatter_plot(dt[\"a26_1\"], dt[\"R1\"])"
      ],
      "id": "967b3c25",
      "execution_count": null,
      "outputs": []
    },
    {
      "cell_type": "markdown",
      "metadata": {},
      "source": [
        "it is not very clear if we truly have a correlation or not. We need to see the linear correlation of the decimal logarithms.\n"
      ],
      "id": "82fa80d2"
    },
    {
      "cell_type": "code",
      "metadata": {},
      "source": [
        "dt[\"log_a26\"] = np.log10(dt[\"a26_1\"].data)\n",
        "dt[\"log_a26\"].unit = u.arcmin\n",
        "dt[\"log_R1\"] = np.log10(dt[\"R1\"].data)\n",
        "dt[\"log_R1\"].unit = u.arcmin\n",
        "dt[\"log_R1\"].info"
      ],
      "id": "ea46bd01",
      "execution_count": null,
      "outputs": []
    },
    {
      "cell_type": "code",
      "metadata": {},
      "source": [
        "scatter_plot(dt[\"log_a26\"], dt[\"log_R1\"], sigma = True)"
      ],
      "id": "8f55d2cf",
      "execution_count": null,
      "outputs": []
    },
    {
      "cell_type": "markdown",
      "metadata": {},
      "source": [
        ":::\n",
        "\n",
        "## Luminosities\n"
      ],
      "id": "9e87fa7e"
    },
    {
      "cell_type": "code",
      "metadata": {},
      "source": [
        "#| echo: false\n",
        "logKLum_corr = round(compare_data(dt[\"logKLum\"], dt[\"logL_K\"], sigma = True)[3], 3)"
      ],
      "id": "7ec412d6",
      "execution_count": null,
      "outputs": []
    },
    {
      "cell_type": "markdown",
      "metadata": {},
      "source": [
        "|   LCV   | HECATE | Description | Pearson Correlation \\[-1,1\\] |\n",
        "|:-------:|:------:|:-----------:|:----------------------------:|\n",
        "| logKLum | logL_K |             |   `{python} logKLum_corr`    |\n"
      ],
      "id": "f3ddea9e"
    },
    {
      "cell_type": "code",
      "metadata": {},
      "source": [
        "#| echo: false\n",
        "dt[\"diff_L_K\"] = relative_diff(hec = dt[\"logL_K\"].value, lcv = dt[\"logKLum\"])\n",
        "temp = dt[[\"logKLum\", \"logL_K\", \"diff_L_K\"]].to_pandas()\n",
        "sns.histplot(temp[\"diff_L_K\"], kde = True)\n",
        "plt.xlabel(\"Percentage change [%]\")\n",
        "plt.title(\"K-band Luminosities\")\n",
        "plt.show()"
      ],
      "id": "4d79b3e5",
      "execution_count": null,
      "outputs": []
    },
    {
      "cell_type": "code",
      "metadata": {},
      "source": [
        "temp.rename(columns = {\"logKLum\":\"log(L_K)_{LCV}$\", \"logL_K\":\"log(L_K)_{HEC}\", \"diff_L_K\":\"Percentage Change [%]\"}, inplace=True)"
      ],
      "id": "70a62150",
      "execution_count": null,
      "outputs": []
    },
    {
      "cell_type": "code",
      "metadata": {},
      "source": [
        "temp.describe()"
      ],
      "id": "d3c1dbec",
      "execution_count": null,
      "outputs": []
    },
    {
      "cell_type": "markdown",
      "metadata": {},
      "source": [
        "## Magnitudes\n"
      ],
      "id": "12382217"
    },
    {
      "cell_type": "code",
      "metadata": {},
      "source": [
        "#| echo: false\n",
        "mag_B_corr = round(compare_data(dt[\"mag_B\"], dt[\"BT\"], sigma = True)[3], 3)\n",
        "Kmag_corr = round(compare_data(dt[\"Kmag\"], dt[\"K\"], sigma = True)[3], 3)"
      ],
      "id": "039dab1e",
      "execution_count": null,
      "outputs": []
    },
    {
      "cell_type": "markdown",
      "metadata": {},
      "source": [
        "|         LCV         |      HECATE      |         Description         | Pearson Correlation \\[-1,1\\] |\n",
        "|:----------------:|:----------------:|:----------------:|:-----------------:|\n",
        "| mag_B (with errors) | BT (with errors) |                             |    `{python} mag_B_corr`     |\n",
        "|        Kmag         |        K         | 2MASS band magnitude (both) |     `{python} Kmag_corr`     |\n",
        "\n",
        "::: panel-tabset\n",
        "## B mag\n"
      ],
      "id": "ea7b1cac"
    },
    {
      "cell_type": "code",
      "metadata": {},
      "source": [
        "scatter_plot(dt[\"mag_B\"], dt[\"BT\"], yerr = dt[\"E_BT\"], sigma=True)"
      ],
      "id": "55bb846d",
      "execution_count": null,
      "outputs": []
    },
    {
      "cell_type": "markdown",
      "metadata": {},
      "source": [
        "## K mag\n"
      ],
      "id": "0cd5e0a5"
    },
    {
      "cell_type": "code",
      "metadata": {},
      "source": [
        "scatter_plot(dt[\"Kmag\"], dt[\"K\"], yerr = dt[\"E_K\"], sigma = True)"
      ],
      "id": "85176e93",
      "execution_count": null,
      "outputs": []
    },
    {
      "cell_type": "code",
      "metadata": {},
      "source": [
        "dt[\"diff_K_mag\"] = relative_diff(dt[\"Kmag\"], dt[\"K\"])\n",
        "\n",
        "temp = dt[[\"diff_K_mag\"]].to_pandas()\n",
        "c = temp[\"diff_K_mag\"]\n",
        "up_clip = c.mean() + 3*c.std()\n",
        "low_clip = c.mean() - 3*c.std()\n",
        "temp[\"Percentage Change, after 3 sigma clip [%]\"] = temp[\"diff_K_mag\"].clip(low_clip, up_clip)\n",
        "temp.rename(columns={\"diff_K_mag\":\"Percentage Change [%]\"}, inplace=True)\n",
        "temp.describe()"
      ],
      "id": "1a3318f6",
      "execution_count": null,
      "outputs": []
    },
    {
      "cell_type": "code",
      "metadata": {},
      "source": [
        "sns.histplot(temp, kde = True)\n",
        "plt.title(\"Percentage change Distribution [%]\")\n",
        "plt.xlabel(f\"K band magnitude [{dt['K'].unit}]\")\n",
        "plt.show()"
      ],
      "id": "9d548f08",
      "execution_count": null,
      "outputs": []
    },
    {
      "cell_type": "markdown",
      "metadata": {},
      "source": [
        ":::\n",
        "\n",
        "## Absorpsion\n"
      ],
      "id": "a6280892"
    },
    {
      "cell_type": "code",
      "metadata": {},
      "source": [
        "#| echo: false\n",
        "ab_corr = round(compare_data(dt[\"AB\"], dt[\"AG\"])[3], 3)\n",
        "#ab_int_corr = round(compare_data(dt[\"AB_int\"], dt[\"AI\"])[3], 3)"
      ],
      "id": "b8a85f93",
      "execution_count": null,
      "outputs": []
    },
    {
      "cell_type": "markdown",
      "metadata": {},
      "source": [
        "|  LCV   | HECATE |                   Description                   | Pearson Correlation \\[-1,1\\] |\n",
        "|:----------------:|:----------------:|:-----------------:|:----------------:|\n",
        "|   AB   |   AG   |    Galactic extinction/absorption in B band     |      `{python} ab_corr`      |\n",
        "| AB_int |   AI   | Internal/Intrinsic B band extinction/absorption |              0               |\n",
        "\n",
        "::: panel-tabset\n",
        "## Galactic\n"
      ],
      "id": "bdd482b1"
    },
    {
      "cell_type": "code",
      "metadata": {},
      "source": [
        "scatter_plot(dt[\"AB\"], dt[\"AG\"], logscale = True)#, scatter_plot(dt[\"AB_int\"], dt[\"AI\"])"
      ],
      "id": "97ad978b",
      "execution_count": null,
      "outputs": []
    },
    {
      "cell_type": "markdown",
      "metadata": {},
      "source": [
        "## Internal\n"
      ],
      "id": "736ed3b1"
    },
    {
      "cell_type": "code",
      "metadata": {},
      "source": [
        "plt.scatter(dt[\"AB_int\"],dt[\"AI\"],)\n",
        "plt.xlabel(f\"LCV, AB_int [{dt['AB_int'].unit}]\")\n",
        "plt.ylabel(f\"HECATE, AI [{dt['AI'].unit}]\")\n",
        "plt.yscale(\"log\")\n",
        "plt.show()"
      ],
      "id": "15f1d4d4",
      "execution_count": null,
      "outputs": []
    },
    {
      "cell_type": "code",
      "metadata": {},
      "source": [
        "sns.jointplot(x=dt[\"AB_int\"], y=dt[\"AI\"], kind=\"reg\",)"
      ],
      "id": "b869e735",
      "execution_count": null,
      "outputs": []
    },
    {
      "cell_type": "markdown",
      "metadata": {},
      "source": [
        ":::\n",
        "\n",
        "## SFR\n"
      ],
      "id": "67b8f9a7"
    },
    {
      "cell_type": "code",
      "metadata": {},
      "source": [
        "#| echo: false\n",
        "# Extract the relevant SFR columns\n",
        "sfr_columns = [\"logSFR_TIR\", \"logSFR_FIR\", \"logSFR_60u\", \"logSFR_12u\", \"logSFR_22u\", \"logSFR_HEC\", \"logSFR_GSW\", \"logSFRFUV\", \"logSFRHa\"]\n",
        "sfr_data = dt[sfr_columns].to_pandas()\n",
        "\n",
        "# Count the number of non-NaN cells for each column\n",
        "non_nan_counts = sfr_data.notna().sum()"
      ],
      "id": "336dd4aa",
      "execution_count": null,
      "outputs": []
    },
    {
      "cell_type": "markdown",
      "metadata": {},
      "source": [
        "|  LCV   |   HECATE   |                           Description                            |                  Count                  |\n",
        "|:----------------:|:----------------:|:-----------------:|:----------------:|\n",
        "|        | logSFR_TIR | Decimal logarithm of the total-infrared SFR estimate \\[Msol/yr\\] | `{python} non_nan_counts[\"logSFR_TIR\"]` |\n",
        "|        | logSFR_FIR |  Decimal logarithm of the far-infrared SFR estimate \\[Msol/yr\\]  | `{python} non_nan_counts[\"logSFR_FIR\"]` |\n",
        "|        | logSFR_60u |      Decimal logarithm of the 60um SFR estimate \\[Msol/yr\\]      | `{python} non_nan_counts[\"logSFR_60u\"]` |\n",
        "|        | logSFR_12u |      Decimal logarithm of the 12um SFR estimate \\[Msol/yr\\]      | `{python} non_nan_counts[\"logSFR_12u\"]` |\n",
        "|        | logSFR_22u |      Decimal logarithm of the 22um SFR estimate \\[Msol/yr\\]      | `{python} non_nan_counts[\"logSFR_22u\"]` |\n",
        "|        | logSFR_HEC |  Decimal logarithm of the homogenised SFR estimate \\[Msol/yr\\]   | `{python} non_nan_counts[\"logSFR_HEC\"]` |\n",
        "|        | logSFR_GSW |       Decimal logarithm of the SFR in GSWLC-2 \\[Msol/yr\\]        | `{python} non_nan_counts[\"logSFR_GSW\"]` |\n",
        "| SFRFUV |            |             FUV derived integral star formation rate             | `{python} non_nan_counts[\"logSFRFUV\"]`  |\n",
        "| SFRHa  |            |          H{alpha} derived integral star formation rate           |  `{python} non_nan_counts[\"logSFRHa\"]`  |\n",
        "\n",
        "::: panel-tabset\n",
        "## Heatmap\n"
      ],
      "id": "1014c784"
    },
    {
      "cell_type": "code",
      "metadata": {},
      "source": [
        "#| echo: false\n",
        "sfr_data.drop(\"logSFR_GSW\", axis=1, inplace=True)\n",
        "# Compute the correlation matrix\n",
        "corr_matrix = sfr_data.corr()\n",
        "\n",
        "# Create a heatmap\n",
        "plt.figure(figsize=(10, 8))\n",
        "sns.heatmap(corr_matrix, annot=True, cmap=\"coolwarm\", vmin=-1, vmax=1)\n",
        "plt.title(\"Correlation Heatmap of SFR Values\")\n",
        "plt.show()"
      ],
      "id": "fe961fd9",
      "execution_count": null,
      "outputs": []
    },
    {
      "cell_type": "markdown",
      "metadata": {},
      "source": [
        "## Scatter Grid\n"
      ],
      "id": "da1004d8"
    },
    {
      "cell_type": "code",
      "metadata": {},
      "source": [
        "# Create a pair grid \n",
        "sns.pairplot(sfr_data, corner=True)\n",
        "plt.show()"
      ],
      "id": "5df39900",
      "execution_count": null,
      "outputs": []
    },
    {
      "cell_type": "markdown",
      "metadata": {},
      "source": [
        "## Density Grids\n"
      ],
      "id": "e6071caf"
    },
    {
      "cell_type": "code",
      "metadata": {},
      "source": [
        "# Create a pair grid \n",
        "sns.pairplot(sfr_data, corner=True, kind=\"kde\", diag_kind=\"hist\")\n",
        "plt.show()"
      ],
      "id": "a553b31c",
      "execution_count": null,
      "outputs": []
    },
    {
      "cell_type": "markdown",
      "metadata": {},
      "source": [
        ":::\n",
        "\n",
        "It is possible we dont see a good correlation because we dont have a big enough common sample\n",
        "\n",
        "## Masses\n"
      ],
      "id": "3d59e504"
    },
    {
      "cell_type": "code",
      "metadata": {},
      "source": [
        "#| echo: false\n",
        "# Extract the relevant mass columns\n",
        "mass_columns = [\"logM26\", \"logMHI\", \"logM_HEC\", \"logM_GSW\", \"logStellarMass\"]\n",
        "mass_data = dt[mass_columns].to_pandas()\n",
        "\n",
        "# Count the number of non-NaN cells for each column\n",
        "non_nan_counts = mass_data.notna().sum()"
      ],
      "id": "b1e3ebca",
      "execution_count": null,
      "outputs": []
    },
    {
      "cell_type": "markdown",
      "metadata": {},
      "source": [
        "|      LCV       |  HECATE  |                        Description                        |                    Count                    |\n",
        "|:----------------:|:----------------:|:----------------:|:----------------:|\n",
        "|     logM26     |          |              Log mass within Holmberg radius              |     `{python} non_nan_counts[\"logM26\"]`     |\n",
        "|     logMHI     |          |              Log mass within Holmberg radius              |     `{python} non_nan_counts[\"logMHI\"]`     |\n",
        "|                | logM_HEC |      Decimal logarithm of the stellar mass \\[Msol\\]       |    `{python} non_nan_counts[\"logM_HEC\"]`    |\n",
        "|                | logM_GSW | Decimal logarithm of the stellar mass in GSWLC-2 \\[Msol\\] |    `{python} non_nan_counts[\"logM_GSW\"]`    |\n",
        "| logStellarMass |          |               Stellar Mass from M\\_\\*/L=0.6               | `{python} non_nan_counts[\"logStellarMass\"]` |\n",
        "\n",
        "::: panel-tabset\n",
        "## Stellar Masses Comparison\n"
      ],
      "id": "753b703f"
    },
    {
      "cell_type": "code",
      "metadata": {},
      "source": [
        "dt[\"diff_M\"] =  relative_diff(hec = dt[\"logM_HEC\"]._convert_data_to_col, lcv = dt[\"logStellarMass\"])"
      ],
      "id": "9819bf00",
      "execution_count": null,
      "outputs": []
    },
    {
      "cell_type": "markdown",
      "metadata": {},
      "source": [
        "## Heatmap\n"
      ],
      "id": "6a52a050"
    },
    {
      "cell_type": "code",
      "metadata": {},
      "source": [
        "mass_data.drop(\"logM_GSW\", axis=1, inplace=True)\n",
        "# Compute the correlation matrix\n",
        "mass_corr_matrix = mass_data.corr()\n",
        "\n",
        "# Create a heatmap\n",
        "sns.heatmap(mass_corr_matrix, annot=True, cmap=\"coolwarm\", vmin=-1, vmax=1)\n",
        "plt.title(\"Correlation Heatmap of Mass Values\")\n",
        "plt.show()"
      ],
      "id": "2c28d145",
      "execution_count": null,
      "outputs": []
    },
    {
      "cell_type": "markdown",
      "metadata": {},
      "source": [
        "## Plot Grid\n"
      ],
      "id": "5a01a856"
    },
    {
      "cell_type": "code",
      "metadata": {},
      "source": [
        "# Create a pair grid\n",
        "sns.pairplot(mass_data, corner=True)\n",
        "plt.show()"
      ],
      "id": "e0ff73a9",
      "execution_count": null,
      "outputs": []
    },
    {
      "cell_type": "markdown",
      "metadata": {},
      "source": [
        "## Density Grid\n"
      ],
      "id": "0a59bd2f"
    },
    {
      "cell_type": "code",
      "metadata": {},
      "source": [
        "# Create a pair grid\n",
        "sns.pairplot(mass_data, corner=True, kind=\"kde\", diag_kind=\"hist\")\n",
        "plt.show()"
      ],
      "id": "05df155c",
      "execution_count": null,
      "outputs": []
    },
    {
      "cell_type": "markdown",
      "metadata": {},
      "source": [
        ":::"
      ],
      "id": "005fa673"
    }
  ],
  "metadata": {
    "kernelspec": {
      "name": "python3",
      "language": "python",
      "display_name": "Python 3 (ipykernel)"
    }
  },
  "nbformat": 4,
  "nbformat_minor": 5
}